{
 "cells": [
  {
   "cell_type": "code",
   "execution_count": 1,
   "metadata": {},
   "outputs": [],
   "source": [
    "import os, psutil\n",
    "import glob\n",
    "import collections\n",
    "import pprint\n",
    "import tinydb as tdb\n",
    "import json"
   ]
  },
  {
   "cell_type": "code",
   "execution_count": 3,
   "metadata": {},
   "outputs": [],
   "source": [
    "import subprocess"
   ]
  },
  {
   "cell_type": "code",
   "execution_count": 5,
   "metadata": {},
   "outputs": [
    {
     "ename": "FileNotFoundError",
     "evalue": "[Errno 2] No such file or directory: '/usr/bin/cat ../*.py': '/usr/bin/cat ../*.py'",
     "output_type": "error",
     "traceback": [
      "\u001b[0;31m---------------------------------------------------------------------------\u001b[0m",
      "\u001b[0;31mFileNotFoundError\u001b[0m                         Traceback (most recent call last)",
      "\u001b[0;32m<ipython-input-5-b9aa0dabb561>\u001b[0m in \u001b[0;36m<module>\u001b[0;34m\u001b[0m\n\u001b[0;32m----> 1\u001b[0;31m \u001b[0msubprocess\u001b[0m\u001b[0;34m.\u001b[0m\u001b[0mrun\u001b[0m\u001b[0;34m(\u001b[0m\u001b[0;34m\"/usr/bin/cat ../*.py\"\u001b[0m\u001b[0;34m)\u001b[0m\u001b[0;34m\u001b[0m\u001b[0;34m\u001b[0m\u001b[0m\n\u001b[0m",
      "\u001b[0;32m/usr/lib64/python3.7/subprocess.py\u001b[0m in \u001b[0;36mrun\u001b[0;34m(input, capture_output, timeout, check, *popenargs, **kwargs)\u001b[0m\n\u001b[1;32m    470\u001b[0m         \u001b[0mkwargs\u001b[0m\u001b[0;34m[\u001b[0m\u001b[0;34m'stderr'\u001b[0m\u001b[0;34m]\u001b[0m \u001b[0;34m=\u001b[0m \u001b[0mPIPE\u001b[0m\u001b[0;34m\u001b[0m\u001b[0;34m\u001b[0m\u001b[0m\n\u001b[1;32m    471\u001b[0m \u001b[0;34m\u001b[0m\u001b[0m\n\u001b[0;32m--> 472\u001b[0;31m     \u001b[0;32mwith\u001b[0m \u001b[0mPopen\u001b[0m\u001b[0;34m(\u001b[0m\u001b[0;34m*\u001b[0m\u001b[0mpopenargs\u001b[0m\u001b[0;34m,\u001b[0m \u001b[0;34m**\u001b[0m\u001b[0mkwargs\u001b[0m\u001b[0;34m)\u001b[0m \u001b[0;32mas\u001b[0m \u001b[0mprocess\u001b[0m\u001b[0;34m:\u001b[0m\u001b[0;34m\u001b[0m\u001b[0;34m\u001b[0m\u001b[0m\n\u001b[0m\u001b[1;32m    473\u001b[0m         \u001b[0;32mtry\u001b[0m\u001b[0;34m:\u001b[0m\u001b[0;34m\u001b[0m\u001b[0;34m\u001b[0m\u001b[0m\n\u001b[1;32m    474\u001b[0m             \u001b[0mstdout\u001b[0m\u001b[0;34m,\u001b[0m \u001b[0mstderr\u001b[0m \u001b[0;34m=\u001b[0m \u001b[0mprocess\u001b[0m\u001b[0;34m.\u001b[0m\u001b[0mcommunicate\u001b[0m\u001b[0;34m(\u001b[0m\u001b[0minput\u001b[0m\u001b[0;34m,\u001b[0m \u001b[0mtimeout\u001b[0m\u001b[0;34m=\u001b[0m\u001b[0mtimeout\u001b[0m\u001b[0;34m)\u001b[0m\u001b[0;34m\u001b[0m\u001b[0;34m\u001b[0m\u001b[0m\n",
      "\u001b[0;32m/usr/lib64/python3.7/subprocess.py\u001b[0m in \u001b[0;36m__init__\u001b[0;34m(self, args, bufsize, executable, stdin, stdout, stderr, preexec_fn, close_fds, shell, cwd, env, universal_newlines, startupinfo, creationflags, restore_signals, start_new_session, pass_fds, encoding, errors, text)\u001b[0m\n\u001b[1;32m    773\u001b[0m                                 \u001b[0mc2pread\u001b[0m\u001b[0;34m,\u001b[0m \u001b[0mc2pwrite\u001b[0m\u001b[0;34m,\u001b[0m\u001b[0;34m\u001b[0m\u001b[0;34m\u001b[0m\u001b[0m\n\u001b[1;32m    774\u001b[0m                                 \u001b[0merrread\u001b[0m\u001b[0;34m,\u001b[0m \u001b[0merrwrite\u001b[0m\u001b[0;34m,\u001b[0m\u001b[0;34m\u001b[0m\u001b[0;34m\u001b[0m\u001b[0m\n\u001b[0;32m--> 775\u001b[0;31m                                 restore_signals, start_new_session)\n\u001b[0m\u001b[1;32m    776\u001b[0m         \u001b[0;32mexcept\u001b[0m\u001b[0;34m:\u001b[0m\u001b[0;34m\u001b[0m\u001b[0;34m\u001b[0m\u001b[0m\n\u001b[1;32m    777\u001b[0m             \u001b[0;31m# Cleanup if the child failed starting.\u001b[0m\u001b[0;34m\u001b[0m\u001b[0;34m\u001b[0m\u001b[0;34m\u001b[0m\u001b[0m\n",
      "\u001b[0;32m/usr/lib64/python3.7/subprocess.py\u001b[0m in \u001b[0;36m_execute_child\u001b[0;34m(self, args, executable, preexec_fn, close_fds, pass_fds, cwd, env, startupinfo, creationflags, shell, p2cread, p2cwrite, c2pread, c2pwrite, errread, errwrite, restore_signals, start_new_session)\u001b[0m\n\u001b[1;32m   1520\u001b[0m                         \u001b[0;32mif\u001b[0m \u001b[0merrno_num\u001b[0m \u001b[0;34m==\u001b[0m \u001b[0merrno\u001b[0m\u001b[0;34m.\u001b[0m\u001b[0mENOENT\u001b[0m\u001b[0;34m:\u001b[0m\u001b[0;34m\u001b[0m\u001b[0;34m\u001b[0m\u001b[0m\n\u001b[1;32m   1521\u001b[0m                             \u001b[0merr_msg\u001b[0m \u001b[0;34m+=\u001b[0m \u001b[0;34m': '\u001b[0m \u001b[0;34m+\u001b[0m \u001b[0mrepr\u001b[0m\u001b[0;34m(\u001b[0m\u001b[0merr_filename\u001b[0m\u001b[0;34m)\u001b[0m\u001b[0;34m\u001b[0m\u001b[0;34m\u001b[0m\u001b[0m\n\u001b[0;32m-> 1522\u001b[0;31m                     \u001b[0;32mraise\u001b[0m \u001b[0mchild_exception_type\u001b[0m\u001b[0;34m(\u001b[0m\u001b[0merrno_num\u001b[0m\u001b[0;34m,\u001b[0m \u001b[0merr_msg\u001b[0m\u001b[0;34m,\u001b[0m \u001b[0merr_filename\u001b[0m\u001b[0;34m)\u001b[0m\u001b[0;34m\u001b[0m\u001b[0;34m\u001b[0m\u001b[0m\n\u001b[0m\u001b[1;32m   1523\u001b[0m                 \u001b[0;32mraise\u001b[0m \u001b[0mchild_exception_type\u001b[0m\u001b[0;34m(\u001b[0m\u001b[0merr_msg\u001b[0m\u001b[0;34m)\u001b[0m\u001b[0;34m\u001b[0m\u001b[0;34m\u001b[0m\u001b[0m\n\u001b[1;32m   1524\u001b[0m \u001b[0;34m\u001b[0m\u001b[0m\n",
      "\u001b[0;31mFileNotFoundError\u001b[0m: [Errno 2] No such file or directory: '/usr/bin/cat ../*.py': '/usr/bin/cat ../*.py'"
     ]
    }
   ],
   "source": [
    "subprocess.run(\"/usr/bin/cat ../*.py\")"
   ]
  },
  {
   "cell_type": "code",
   "execution_count": 141,
   "metadata": {},
   "outputs": [],
   "source": [
    "def bytes_converter(b, unit='GB'):\n",
    "    multiplier = (1 if unit is 'KB'or unit is 'kb' else 2 if unit is 'MB' or unit is 'mb' else 3 if unit is 'GB' or unit is 'gb' else None)\n",
    "    return b/(1024**multiplier)"
   ]
  },
  {
   "cell_type": "code",
   "execution_count": 486,
   "metadata": {},
   "outputs": [],
   "source": [
    "def get_mounted_partitions(unit='GB'):\n",
    "    \n",
    "    res_d=collections.defaultdict(list)\n",
    "    for dev,mount_point,fs,opts in psutil.disk_partitions():\n",
    "        res = {}\n",
    "        a = psutil.disk_usage(path=mount_point)\n",
    "#         print(mount_point)\n",
    "        res['dev'] = dev\n",
    "        res['mount_point'] = mount_point\n",
    "        res['fs'] = fs\n",
    "        res['opts']=opts\n",
    "        res['memory_details_'+unit]={label_me(i):bytes_converter(j,unit) if j != a[-1] else j  for i, j in enumerate(a)}\n",
    "        res_d[dev.split('/')[-1].rstrip('123456789')].append(res)\n",
    "    return res_d"
   ]
  },
  {
   "cell_type": "code",
   "execution_count": 444,
   "metadata": {},
   "outputs": [],
   "source": [
    "def label_me(x):\n",
    "    return 'total' if x == 0 else 'used' if x == 1 else 'free' if x ==2 else 'percent' if x ==3 else 'Unknown'"
   ]
  },
  {
   "cell_type": "code",
   "execution_count": 433,
   "metadata": {},
   "outputs": [],
   "source": [
    "def get_RAM(unit='GB'):\n",
    "    a=psutil.virtual_memory()\n",
    "    res = {'total_'+unit:bytes_converter(a[0],unit),\n",
    "           'available_'+unit:bytes_converter(a[1],unit),\n",
    "           'percent':a[2],\n",
    "           'used_'+unit:bytes_converter(a[3],unit),\n",
    "           'free_'+unit:bytes_converter(a[4],unit),\n",
    "           'active_'+unit:bytes_converter(a[5],unit),\n",
    "           'inactive_'+unit:bytes_converter(a[6],unit),\n",
    "           'buffers_'+unit:bytes_converter(a[7],unit),\n",
    "           'cached_'+unit:bytes_converter(a[8],unit),\n",
    "           'shared_'+unit:bytes_converter(a[9],unit),\n",
    "           'slab_'+unit:bytes_converter(a[10],unit),\n",
    "          }\n",
    "    return res"
   ]
  },
  {
   "cell_type": "code",
   "execution_count": 596,
   "metadata": {},
   "outputs": [
    {
     "name": "stdout",
     "output_type": "stream",
     "text": [
      "defaultdict(<class 'list'>,\n",
      "            {'lukssda': [{'dev': '/dev/mapper/lukssda3',\n",
      "                          'fs': 'ext4',\n",
      "                          'memory_details_GB': {'free': 10.315963745117188,\n",
      "                                                'percent': 96.8,\n",
      "                                                'total': 338.70107650756836,\n",
      "                                                'used': 311.1136779785156},\n",
      "                          'mount_point': '/home',\n",
      "                          'opts': 'rw,noatime,discard'}],\n",
      "             'sda': [{'dev': '/dev/sda6',\n",
      "                      'fs': 'ext4',\n",
      "                      'memory_details_GB': {'free': 43.20309066772461,\n",
      "                                            'percent': 61.3,\n",
      "                                            'total': 117.61941528320312,\n",
      "                                            'used': 68.40049362182617},\n",
      "                      'mount_point': '/',\n",
      "                      'opts': 'rw,noatime,discard'},\n",
      "                     {'dev': '/dev/sda2',\n",
      "                      'fs': 'vfat',\n",
      "                      'memory_details_GB': {'free': 0.035729408264160156,\n",
      "                                            'percent': 61.9,\n",
      "                                            'total': 0.09375,\n",
      "                                            'used': 0.058020591735839844},\n",
      "                      'mount_point': '/boot/efi',\n",
      "                      'opts': 'rw,noatime,discard'}]})\n"
     ]
    }
   ],
   "source": [
    "pprint.pprint(get_mounted_partitions())"
   ]
  },
  {
   "cell_type": "code",
   "execution_count": 538,
   "metadata": {},
   "outputs": [
    {
     "data": {
      "text/plain": [
       "'/dev/mapper/lukssda3'"
      ]
     },
     "execution_count": 538,
     "metadata": {},
     "output_type": "execute_result"
    }
   ],
   "source": [
    "'/dev/mapper/lukssda3'"
   ]
  },
  {
   "cell_type": "code",
   "execution_count": 555,
   "metadata": {},
   "outputs": [],
   "source": [
    "output={'blockdevices': [{'name': 'sda', 'model': 'SAMSUNG_MZNTE512HMJH-00000'}, {'name': 'sdc', 'model': 'SAMSUNGMZNTE512HMJH-00000'}]}"
   ]
  },
  {
   "cell_type": "code",
   "execution_count": 609,
   "metadata": {},
   "outputs": [],
   "source": [
    "def get_block_info():\n",
    "    return json.loads(subprocess.check_output(\"lsblk -JS -io name,model,rota,type,WWN,HCTL,vendor,zoned,hotplug,subsystems,tran\", shell=True).decode('utf-8'))"
   ]
  },
  {
   "cell_type": "code",
   "execution_count": 610,
   "metadata": {},
   "outputs": [
    {
     "name": "stdout",
     "output_type": "stream",
     "text": [
      "{'blockdevices': [{'hctl': '0:0:0:0',\n",
      "                   'hotplug': False,\n",
      "                   'model': 'SAMSUNG_MZNTE512HMJH-00000',\n",
      "                   'name': 'sda',\n",
      "                   'rota': False,\n",
      "                   'subsystems': 'block:scsi:pci',\n",
      "                   'tran': 'sata',\n",
      "                   'type': 'disk',\n",
      "                   'vendor': 'ATA     ',\n",
      "                   'wwn': '0x500253880045cb51',\n",
      "                   'zoned': 'none'},\n",
      "                  {'hctl': '6:0:0:0',\n",
      "                   'hotplug': True,\n",
      "                   'model': 'Elements_10B8',\n",
      "                   'name': 'sdb',\n",
      "                   'rota': True,\n",
      "                   'subsystems': 'block:scsi:usb:pci',\n",
      "                   'tran': 'usb',\n",
      "                   'type': 'disk',\n",
      "                   'vendor': 'WD      ',\n",
      "                   'wwn': None,\n",
      "                   'zoned': 'none'}]}\n"
     ]
    }
   ],
   "source": [
    "pprint.pprint(get_block_info())"
   ]
  },
  {
   "cell_type": "code",
   "execution_count": 601,
   "metadata": {},
   "outputs": [
    {
     "data": {
      "text/plain": [
       "{'blockdevices': [{'name': 'sda',\n",
       "   'model': 'SAMSUNG_MZNTE512HMJH-00000',\n",
       "   'rota': False,\n",
       "   'type': 'disk',\n",
       "   'wwn': '0x500253880045cb51',\n",
       "   'hctl': '0:0:0:0',\n",
       "   'vendor': 'ATA     '}]}"
      ]
     },
     "execution_count": 601,
     "metadata": {},
     "output_type": "execute_result"
    }
   ],
   "source": [
    "output"
   ]
  },
  {
   "cell_type": "code",
   "execution_count": null,
   "metadata": {},
   "outputs": [],
   "source": [
    "new_parts={}"
   ]
  },
  {
   "cell_type": "code",
   "execution_count": 519,
   "metadata": {},
   "outputs": [
    {
     "data": {
      "text/plain": [
       "dict_keys(['sda', 'lukssda', 'sdb'])"
      ]
     },
     "execution_count": 519,
     "metadata": {},
     "output_type": "execute_result"
    }
   ],
   "source": [
    "for devs in temp.keys():\n",
    "    if [True if i['name'] in output.keys()  else False for i in output['blockdevices']] :\n",
    "        "
   ]
  },
  {
   "cell_type": "code",
   "execution_count": 598,
   "metadata": {},
   "outputs": [
    {
     "name": "stdout",
     "output_type": "stream",
     "text": [
      "CPU times: user 659 µs, sys: 130 µs, total: 789 µs\n",
      "Wall time: 478 µs\n"
     ]
    },
    {
     "data": {
      "text/plain": [
       "{'total_GB': 15.564624786376953,\n",
       " 'available_GB': 0.3844032287597656,\n",
       " 'percent': 97.5,\n",
       " 'used_GB': 10.999378204345703,\n",
       " 'free_GB': 0.3112602233886719,\n",
       " 'active_GB': 12.7125244140625,\n",
       " 'inactive_GB': 1.8190193176269531,\n",
       " 'buffers_GB': 0.06397628784179688,\n",
       " 'cached_GB': 4.190010070800781,\n",
       " 'shared_GB': 3.7210044860839844,\n",
       " 'slab_GB': 0.19100570678710938}"
      ]
     },
     "execution_count": 598,
     "metadata": {},
     "output_type": "execute_result"
    }
   ],
   "source": [
    "%time get_RAM()"
   ]
  },
  {
   "cell_type": "code",
   "execution_count": 516,
   "metadata": {},
   "outputs": [
    {
     "data": {
      "text/plain": [
       "{'model': 'SAMSUNG_MZNTE512HMJH-00000',\n",
       " 'partitions': [{'dev': '/dev/sda6',\n",
       "   'mount_point': '/',\n",
       "   'fs': 'ext4',\n",
       "   'opts': 'rw,noatime,discard',\n",
       "   'memory_details_GB': {'total': 117.61941528320312,\n",
       "    'used': 68.15612030029297,\n",
       "    'free': 43.44746398925781,\n",
       "    'percent': 61.1}},\n",
       "  {'dev': '/dev/sda2',\n",
       "   'mount_point': '/boot/efi',\n",
       "   'fs': 'vfat',\n",
       "   'opts': 'rw,noatime,discard',\n",
       "   'memory_details_GB': {'total': 0.09375,\n",
       "    'used': 0.058020591735839844,\n",
       "    'free': 0.035729408264160156,\n",
       "    'percent': 61.9}}]}"
      ]
     },
     "execution_count": 516,
     "metadata": {},
     "output_type": "execute_result"
    }
   ],
   "source": [
    "new_parts"
   ]
  },
  {
   "cell_type": "code",
   "execution_count": 187,
   "metadata": {},
   "outputs": [],
   "source": [
    "res_list=collections.deque()\n"
   ]
  },
  {
   "cell_type": "code",
   "execution_count": 570,
   "metadata": {},
   "outputs": [],
   "source": []
  },
  {
   "cell_type": "code",
   "execution_count": 572,
   "metadata": {},
   "outputs": [
    {
     "data": {
      "text/plain": [
       "'/home/neeraj/ior-master//src/ior -i=5'"
      ]
     },
     "execution_count": 572,
     "metadata": {},
     "output_type": "execute_result"
    }
   ],
   "source": [
    "ior_path+'/src/ior -i=5'"
   ]
  },
  {
   "cell_type": "code",
   "execution_count": null,
   "metadata": {},
   "outputs": [],
   "source": []
  },
  {
   "cell_type": "code",
   "execution_count": 595,
   "metadata": {},
   "outputs": [
    {
     "name": "stdout",
     "output_type": "stream",
     "text": [
      "[{'sequential': {'write': {'min': 2036.22, 'max': 2954.97, 'avg': 2651.888}, 'read': {'min': 9663.0, 'max': 13290.0, 'avg': 12108.2}}}, {'random': {'write': {'min': 1931.26, 'max': 3020.13, 'avg': 2560.566}, 'read': {'min': 6080.0, 'max': 9799.0, 'avg': 8277.8}}}]\n"
     ]
    }
   ],
   "source": [
    "####################################################################################################################################################\n",
    "#                                                                         BANDWIDTH SCRIPT\n",
    "#                                                            this script generate a bandwidth json file\n",
    "####################################################################################################################################################\n",
    "ior_path=\"/home/neeraj/ior/\"\n",
    "import json,os\n",
    "## /src/ior -i=5 -O summaryFormat=JSON\n",
    "## /src/ior -i=5 -z -O summaryFormat=JSON\n",
    "def get_bandwidth(ordering='sequential'):\n",
    "    if ordering == 'sequential':\n",
    "#         subprocess.check_output(ior_path+'/src/ior -i=5', shell=True).decode('utf-8')\n",
    "        output = subprocess.check_output(ior_path+'/src/ior -i=5', shell=True).decode('utf-8')\n",
    "    else:\n",
    "#         \n",
    "        output = subprocess.check_output(ior_path+'/src/ior -z -i=5', shell=True).decode('utf-8')\n",
    "    if not output:\n",
    "        print(\"It seems like ior is not installed in this system\")\n",
    "        return\n",
    "    relevantRows=['write','read']\n",
    "    for line in output[output.find(\"ordering in a file\"):].split('\\n'): \n",
    "        #Getting type of access, sequential vs random \n",
    "        ordering = line.split(':')\n",
    "        ordering = ordering[1][1:]\n",
    "        sequential={ordering : {'write':[],'read':[]}}\n",
    "        c=0\n",
    "        s=0\n",
    "        break\n",
    "    for line in output[output.find(\"Results\"):output.find(\"Summary\")].split('\\n'):\n",
    "        parsing = line.split()\n",
    "        if parsing and parsing[0] in relevantRows:\n",
    "            c+=1\n",
    "            sequential[ordering][parsing[0]].append(float(parsing[1]))\n",
    "    c=c/len(relevantRows)\n",
    "    for row in relevantRows:\n",
    "        s = sum(sequential[ordering][row])\n",
    "        m = min(sequential[ordering][row])\n",
    "        M = max(sequential[ordering][row])\n",
    "        sequential[ordering][row]={'min':m,'max':M,'avg':s/c}\n",
    "    return sequential\n",
    "data = [get_bandwidth(ordering='sequential'),get_bandwidth(ordering='random')]\n",
    "print(data)\n",
    "# with open('ba  ndwidth.json','w') as f:\n",
    "#     json.dump(obj=data,fp=f)"
   ]
  },
  {
   "cell_type": "code",
   "execution_count": 581,
   "metadata": {},
   "outputs": [],
   "source": [
    "output = subprocess.check_output(ior_path+'/src/ior -i=5', shell=True).decode('utf-8')"
   ]
  },
  {
   "cell_type": "code",
   "execution_count": null,
   "metadata": {},
   "outputs": [],
   "source": []
  },
  {
   "cell_type": "code",
   "execution_count": 587,
   "metadata": {},
   "outputs": [
    {
     "data": {
      "text/plain": [
       "['ordering in a file = sequential offsets']"
      ]
     },
     "execution_count": 587,
     "metadata": {},
     "output_type": "execute_result"
    }
   ],
   "source": [
    "ordering"
   ]
  },
  {
   "cell_type": "code",
   "execution_count": null,
   "metadata": {},
   "outputs": [],
   "source": []
  },
  {
   "cell_type": "code",
   "execution_count": null,
   "metadata": {},
   "outputs": [],
   "source": []
  },
  {
   "cell_type": "code",
   "execution_count": null,
   "metadata": {},
   "outputs": [],
   "source": []
  },
  {
   "cell_type": "code",
   "execution_count": 169,
   "metadata": {},
   "outputs": [
    {
     "data": {
      "text/plain": [
       "sdiskusage(total=126292885504, used=110800441344, free=9032994816, percent=92.5)"
      ]
     },
     "execution_count": 169,
     "metadata": {},
     "output_type": "execute_result"
    }
   ],
   "source": [
    "a"
   ]
  },
  {
   "cell_type": "code",
   "execution_count": 190,
   "metadata": {},
   "outputs": [],
   "source": [
    "def linux_block_devices():\n",
    "    for blockdev_stat in glob.glob('/sys/block/*/stat'):\n",
    "        blockdev_dir = blockdev_stat.rsplit('/', 1)[0]\n",
    "        found_parts = False\n",
    "        for part_stat in glob.glob(blockdev_dir + '/*/stat'):\n",
    "            yield blockdev_stat.rsplit('/', 2)[-2]\n",
    "            found_parts = True\n",
    "        if not found_parts:\n",
    "            yield blockdev_dir.rsplit('/', 1)[-1]\n"
   ]
  },
  {
   "cell_type": "code",
   "execution_count": 191,
   "metadata": {},
   "outputs": [],
   "source": [
    "import subprocess, re\n",
    "\n",
    "def mac_block_devices():\n",
    "    output = subprocess.check_output(['diskutil', 'list'])\n",
    "    return re.findall('^\\s+\\d+:.*\\s(disk\\S*)$', output, flags=re.MULTILINE)"
   ]
  },
  {
   "cell_type": "code",
   "execution_count": 192,
   "metadata": {},
   "outputs": [],
   "source": [
    "\n",
    "\n",
    "all_block_devices = set(\n",
    "  linux_block_devices() if os.path.exists('/sys') else mac_block_devices()\n",
    ")\n",
    "used_block_devices = set(\n",
    "    (p.device.replace('/dev/', '') for p in psutil.disk_partitions())\n",
    ")\n",
    "unused_block_devices = all_block_devices - used_block_devices"
   ]
  },
  {
   "cell_type": "code",
   "execution_count": 514,
   "metadata": {},
   "outputs": [
    {
     "data": {
      "text/plain": [
       "{'dm-0',\n",
       " 'loop0',\n",
       " 'loop1',\n",
       " 'loop2',\n",
       " 'loop3',\n",
       " 'loop4',\n",
       " 'loop5',\n",
       " 'loop6',\n",
       " 'loop7',\n",
       " 'ram0',\n",
       " 'ram1',\n",
       " 'ram10',\n",
       " 'ram11',\n",
       " 'ram12',\n",
       " 'ram13',\n",
       " 'ram14',\n",
       " 'ram15',\n",
       " 'ram2',\n",
       " 'ram3',\n",
       " 'ram4',\n",
       " 'ram5',\n",
       " 'ram6',\n",
       " 'ram7',\n",
       " 'ram8',\n",
       " 'ram9',\n",
       " 'sda',\n",
       " 'zram0'}"
      ]
     },
     "execution_count": 514,
     "metadata": {},
     "output_type": "execute_result"
    }
   ],
   "source": [
    "unused_block_devices"
   ]
  },
  {
   "cell_type": "code",
   "execution_count": 388,
   "metadata": {},
   "outputs": [],
   "source": [
    "a=psutil.virtual_memory()"
   ]
  },
  {
   "cell_type": "code",
   "execution_count": 517,
   "metadata": {},
   "outputs": [
    {
     "data": {
      "text/plain": [
       "defaultdict(list,\n",
       "            {'sda': [{'dev': '/dev/sda6',\n",
       "               'mount_point': '/',\n",
       "               'fs': 'ext4',\n",
       "               'opts': 'rw,noatime,discard',\n",
       "               'memory_details_GB': {'total': 117.61941528320312,\n",
       "                'used': 68.13333129882812,\n",
       "                'free': 43.470252990722656,\n",
       "                'percent': 61.0}},\n",
       "              {'dev': '/dev/sda2',\n",
       "               'mount_point': '/boot/efi',\n",
       "               'fs': 'vfat',\n",
       "               'opts': 'rw,noatime,discard',\n",
       "               'memory_details_GB': {'total': 0.09375,\n",
       "                'used': 0.058020591735839844,\n",
       "                'free': 0.035729408264160156,\n",
       "                'percent': 61.9}}],\n",
       "             'lukssda': [{'dev': '/dev/mapper/lukssda3',\n",
       "               'mount_point': '/home',\n",
       "               'fs': 'ext4',\n",
       "               'opts': 'rw,noatime,discard',\n",
       "               'memory_details_GB': {'total': 338.70107650756836,\n",
       "                'used': 310.9332504272461,\n",
       "                'free': 10.496391296386719,\n",
       "                'percent': 96.7}}]})"
      ]
     },
     "execution_count": 517,
     "metadata": {},
     "output_type": "execute_result"
    }
   ],
   "source": [
    "get_mounted_partitions()"
   ]
  },
  {
   "cell_type": "code",
   "execution_count": null,
   "metadata": {},
   "outputs": [],
   "source": []
  },
  {
   "cell_type": "code",
   "execution_count": 611,
   "metadata": {},
   "outputs": [],
   "source": [
    "psutil.swap_memory?"
   ]
  },
  {
   "cell_type": "code",
   "execution_count": 620,
   "metadata": {},
   "outputs": [],
   "source": [
    "def get_swap_memory():\n",
    "    a=psutil.swap_memory()\n",
    "    swap_res={}\n",
    "    swap_res['total']=bytes_converter(a[0],unit='GB')\n",
    "    swap_res['used']=bytes_converter(a[1],unit='GB')\n",
    "    swap_res['free']=bytes_converter(a[2],unit='GB')\n",
    "    swap_res['percent']=a[3]\n",
    "    swap_res['sin']=bytes_converter(a[4],unit='GB')\n",
    "    swap_res['sout']=bytes_converter(a[5],unit='GB')\n",
    "    return swap_res"
   ]
  },
  {
   "cell_type": "code",
   "execution_count": 621,
   "metadata": {},
   "outputs": [
    {
     "name": "stdout",
     "output_type": "stream",
     "text": [
      "{'free': 6.3983917236328125,\n",
      " 'percent': 20.1,\n",
      " 'sin': 3.8137893676757812,\n",
      " 'sout': 6.047203063964844,\n",
      " 'total': 8.007808685302734,\n",
      " 'used': 1.6094169616699219}\n"
     ]
    }
   ],
   "source": [
    "pprint.pprint(get_swap_memory())"
   ]
  },
  {
   "cell_type": "code",
   "execution_count": 622,
   "metadata": {},
   "outputs": [],
   "source": [
    "print?"
   ]
  },
  {
   "cell_type": "code",
   "execution_count": 126,
   "metadata": {},
   "outputs": [],
   "source": []
  },
  {
   "cell_type": "code",
   "execution_count": 125,
   "metadata": {},
   "outputs": [
    {
     "data": {
      "text/plain": [
       "125"
      ]
     },
     "execution_count": 125,
     "metadata": {},
     "output_type": "execute_result"
    }
   ],
   "source": [
    "5 **(1 if x is 'KB'or x is 'kb' else 2 if x is 'MB' or x is 'mb' else 3 if x is 'GB' or x is 'gb' else None)"
   ]
  },
  {
   "cell_type": "code",
   "execution_count": 127,
   "metadata": {},
   "outputs": [
    {
     "data": {
      "text/plain": [
       "15.564624786376953"
      ]
     },
     "execution_count": 127,
     "metadata": {},
     "output_type": "execute_result"
    }
   ],
   "source": [
    "bytes_converter(16712388608)"
   ]
  },
  {
   "cell_type": "code",
   "execution_count": 88,
   "metadata": {},
   "outputs": [],
   "source": [
    "os.system?"
   ]
  }
 ],
 "metadata": {
  "kernelspec": {
   "display_name": "Python 3",
   "language": "python",
   "name": "python3"
  },
  "language_info": {
   "codemirror_mode": {
    "name": "ipython",
    "version": 3
   },
   "file_extension": ".py",
   "mimetype": "text/x-python",
   "name": "python",
   "nbconvert_exporter": "python",
   "pygments_lexer": "ipython3",
   "version": "3.7.2"
  }
 },
 "nbformat": 4,
 "nbformat_minor": 2
}
