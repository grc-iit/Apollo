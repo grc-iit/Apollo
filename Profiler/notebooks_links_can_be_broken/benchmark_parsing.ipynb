{
 "cells": [
  {
   "cell_type": "code",
   "execution_count": 3,
   "metadata": {},
   "outputs": [],
   "source": [
    "import os\n",
    "def bashing(command,printToScreen=True):\n",
    "    os.system(command + \" > QbashFile\")\n",
    "    with open(\"QbashFile\") as f:\n",
    "        var=f.read()\n",
    "    os.remove('QbashFile')\n",
    "    if printToScreen:\n",
    "        print(var)\n",
    "    else:\n",
    "        return var\n",
    "    "
   ]
  },
  {
   "cell_type": "code",
   "execution_count": 41,
   "metadata": {
    "scrolled": true
   },
   "outputs": [
    {
     "name": "stdout",
     "output_type": "stream",
     "text": [
      "Object `os.Popen` not found.\n"
     ]
    }
   ],
   "source": [
    "#bashing('ior -h')\n",
    "os.rem"
   ]
  },
  {
   "cell_type": "code",
   "execution_count": 2,
   "metadata": {
    "scrolled": true
   },
   "outputs": [],
   "source": [
    "def get_bandwidth(ordering='sequential'):\n",
    "    \n",
    "    if ordering == 'sequential':\n",
    "        output = bashing('ior -i=5',False)\n",
    "    else:\n",
    "        output = bashing('ior -z -i=5',False)\n",
    "    relevantRows=['write','read']\n",
    "    for line in output[output.find(\"ordering in a file\"):].split('\\n'): \n",
    "        #Getting type of access, sequential vs random \n",
    "        ordering = line.split(':')\n",
    "        ordering = ordering[1][1:]\n",
    "        sequential={ordering : {'write':[],'read':[]}}\n",
    "        c=0\n",
    "        s=0\n",
    "        break\n",
    "    for line in output[output.find(\"Results\"):output.find(\"Summary\")].split('\\n'):\n",
    "        parsing = line.split()\n",
    "        if parsing and parsing[0] in relevantRows:\n",
    "            c+=1\n",
    "            sequential[ordering][parsing[0]].append(float(parsing[1]))\n",
    "    c=c/len(relevantRows)\n",
    "    for row in relevantRows:\n",
    "        s = sum(sequential[ordering][row])\n",
    "        m = min(sequential[ordering][row])\n",
    "        M = max(sequential[ordering][row])\n",
    "        sequential[ordering][row]={'min':m,'max':M,'avg':s/c}\n",
    "    return sequential"
   ]
  },
  {
   "cell_type": "code",
   "execution_count": 3,
   "metadata": {
    "scrolled": false
   },
   "outputs": [],
   "source": [
    "import json\n",
    "data = [get_bandwidth(ordering='sequential'),get_bandwidth(ordering='random')]\n",
    "with open('bandwidth.json','w') as f:\n",
    "    json.dump(obj=data,fp=f)"
   ]
  },
  {
   "cell_type": "code",
   "execution_count": 8,
   "metadata": {
    "scrolled": true
   },
   "outputs": [
    {
     "name": "stdout",
     "output_type": "stream",
     "text": [
      "Writing output to op.json\n",
      "\n"
     ]
    }
   ],
   "source": [
    "bashing('ior -a=POSIX -O summaryFile=op.json -O summaryFormat=JSON')"
   ]
  },
  {
   "cell_type": "code",
   "execution_count": 11,
   "metadata": {},
   "outputs": [],
   "source": [
    "import json\n",
    "with open('op.json') as f :\n",
    "    data = json.load(f)\n"
   ]
  },
  {
   "cell_type": "code",
   "execution_count": 62,
   "metadata": {},
   "outputs": [],
   "source": [
    "import json, os\n",
    "def get_benchmark():\n",
    "    os.system('ior -a=POSIX -O summaryFile=sequential.json -O summaryFormat=JSON')\n",
    "    os.system('ior -a=POSIX -z -O summaryFile=random.json -O summaryFormat=JSON')\n",
    "    with open('sequential.json') as f :\n",
    "        sequential = json.load(f)\n",
    "    with open('random.json') as f :\n",
    "        random = json.load(f)\n",
    "    filesystem  = bashing('df -P sequential.json',False)\n",
    "    filesystem=filesystem[filesystem.find('\\n'):].split()[0]\n",
    "    read=1\n",
    "    write=0\n",
    "    return {\n",
    "        'filesystem': filesystem,\n",
    "        sequential['tests'][0]['Options']['ordering in a file'] :\n",
    "        {\n",
    "            sequential['summary'][read]['operation']:{\n",
    "            'bwMaxMIB' :    sequential['summary'][read]['bwMaxMIB'],\n",
    "            'bwMinMIB' :    sequential['summary'][read]['bwMinMIB'],\n",
    "            'bwMeanMIB' :    sequential['summary'][read]['bwMeanMIB'],\n",
    "            'openTime' :    sequential['tests'][0]['Results'][0][read]['openTime'],\n",
    "            'wrRdTime' :    sequential['tests'][0]['Results'][0][read]['wrRdTime'],\n",
    "            'totalTime' :    sequential['tests'][0]['Results'][0][read]['totalTime']\n",
    "            },\n",
    "             sequential['summary'][write]['operation']:{\n",
    "            'bwMaxMIB' :    sequential['summary'][write]['bwMaxMIB'],\n",
    "            'bwMinMIB' :    sequential['summary'][write]['bwMinMIB'],\n",
    "            'bwMeanMIB' :    sequential['summary'][write]['bwMeanMIB'],\n",
    "            'openTime' :    sequential['tests'][0]['Results'][0][write]['openTime'],\n",
    "            'wrRdTime' :    sequential['tests'][0]['Results'][0][write]['wrRdTime'],\n",
    "            'totalTime' :    sequential['tests'][0]['Results'][0][write]['totalTime']\n",
    "            }\n",
    "        },\n",
    "                random['tests'][0]['Options']['ordering in a file'] :\n",
    "        {\n",
    "            random['summary'][read]['operation']:{\n",
    "            'bwMaxMIB' :    random['summary'][read]['bwMaxMIB'],\n",
    "            'bwMinMIB' :    random['summary'][read]['bwMinMIB'],\n",
    "            'bwMeanMIB' :    random['summary'][read]['bwMeanMIB'],\n",
    "            'openTime' :    random['tests'][0]['Results'][0][read]['openTime'],\n",
    "            'wrRdTime' :    random['tests'][0]['Results'][0][read]['wrRdTime'],\n",
    "            'totalTime' :    random['tests'][0]['Results'][0][read]['totalTime']\n",
    "            },\n",
    "             random['summary'][write]['operation']:{\n",
    "            'bwMaxMIB' :    random['summary'][write]['bwMaxMIB'],\n",
    "            'bwMinMIB' :    random['summary'][write]['bwMinMIB'],\n",
    "            'bwMeanMIB' :    random['summary'][write]['bwMeanMIB'],\n",
    "            'openTime' :    random['tests'][0]['Results'][0][write]['openTime'],\n",
    "            'wrRdTime' :    random['tests'][0]['Results'][0][write]['wrRdTime'],\n",
    "            'totalTime' :    random['tests'][0]['Results'][0][write]['totalTime']\n",
    "            }\n",
    "        }\n",
    "    }\n",
    "    "
   ]
  },
  {
   "cell_type": "code",
   "execution_count": 6,
   "metadata": {
    "scrolled": false
   },
   "outputs": [
    {
     "ename": "JSONDecodeError",
     "evalue": "Expecting value: line 1 column 1 (char 0)",
     "output_type": "error",
     "traceback": [
      "\u001b[0;31m---------------------------------------------------------------------------\u001b[0m",
      "\u001b[0;31mJSONDecodeError\u001b[0m                           Traceback (most recent call last)",
      "\u001b[0;32m<ipython-input-6-d8a1e3525d15>\u001b[0m in \u001b[0;36m<module>\u001b[0;34m\u001b[0m\n\u001b[0;32m----> 1\u001b[0;31m \u001b[0mt\u001b[0m \u001b[0;34m=\u001b[0m\u001b[0mget_benchmark\u001b[0m\u001b[0;34m(\u001b[0m\u001b[0;34m)\u001b[0m\u001b[0;34m\u001b[0m\u001b[0m\n\u001b[0m",
      "\u001b[0;32m<ipython-input-5-6180a4bf65f8>\u001b[0m in \u001b[0;36mget_benchmark\u001b[0;34m()\u001b[0m\n\u001b[1;32m      8\u001b[0m     \u001b[0;32mwith\u001b[0m \u001b[0mopen\u001b[0m\u001b[0;34m(\u001b[0m\u001b[0;34m'random.json'\u001b[0m\u001b[0;34m)\u001b[0m \u001b[0;32mas\u001b[0m \u001b[0mf\u001b[0m \u001b[0;34m:\u001b[0m\u001b[0;34m\u001b[0m\u001b[0m\n\u001b[1;32m      9\u001b[0m         \u001b[0mrandom\u001b[0m \u001b[0;34m=\u001b[0m \u001b[0mjson\u001b[0m\u001b[0;34m.\u001b[0m\u001b[0mload\u001b[0m\u001b[0;34m(\u001b[0m\u001b[0mf\u001b[0m\u001b[0;34m)\u001b[0m\u001b[0;34m\u001b[0m\u001b[0m\n\u001b[0;32m---> 10\u001b[0;31m     \u001b[0mfilesystem\u001b[0m  \u001b[0;34m=\u001b[0m \u001b[0mjson\u001b[0m\u001b[0;34m.\u001b[0m\u001b[0mloads\u001b[0m\u001b[0;34m(\u001b[0m\u001b[0msubprocess\u001b[0m\u001b[0;34m.\u001b[0m\u001b[0mcheck_output\u001b[0m\u001b[0;34m(\u001b[0m\u001b[0;34m\"df -P sequential.json\"\u001b[0m\u001b[0;34m,\u001b[0m \u001b[0mshell\u001b[0m\u001b[0;34m=\u001b[0m\u001b[0;32mTrue\u001b[0m\u001b[0;34m)\u001b[0m\u001b[0;34m.\u001b[0m\u001b[0mdecode\u001b[0m\u001b[0;34m(\u001b[0m\u001b[0;34m'utf-8'\u001b[0m\u001b[0;34m)\u001b[0m\u001b[0;34m)\u001b[0m\u001b[0;34m\u001b[0m\u001b[0m\n\u001b[0m\u001b[1;32m     11\u001b[0m     \u001b[0mfilesystem\u001b[0m\u001b[0;34m=\u001b[0m\u001b[0mfilesystem\u001b[0m\u001b[0;34m[\u001b[0m\u001b[0mfilesystem\u001b[0m\u001b[0;34m.\u001b[0m\u001b[0mfind\u001b[0m\u001b[0;34m(\u001b[0m\u001b[0;34m'\\n'\u001b[0m\u001b[0;34m)\u001b[0m\u001b[0;34m:\u001b[0m\u001b[0;34m]\u001b[0m\u001b[0;34m.\u001b[0m\u001b[0msplit\u001b[0m\u001b[0;34m(\u001b[0m\u001b[0;34m)\u001b[0m\u001b[0;34m[\u001b[0m\u001b[0;36m0\u001b[0m\u001b[0;34m]\u001b[0m\u001b[0;34m\u001b[0m\u001b[0m\n\u001b[1;32m     12\u001b[0m     \u001b[0mread\u001b[0m\u001b[0;34m=\u001b[0m\u001b[0;36m1\u001b[0m\u001b[0;34m\u001b[0m\u001b[0m\n",
      "\u001b[0;32m/usr/lib/python3.5/json/__init__.py\u001b[0m in \u001b[0;36mloads\u001b[0;34m(s, encoding, cls, object_hook, parse_float, parse_int, parse_constant, object_pairs_hook, **kw)\u001b[0m\n\u001b[1;32m    317\u001b[0m             \u001b[0mparse_int\u001b[0m \u001b[0;32mis\u001b[0m \u001b[0;32mNone\u001b[0m \u001b[0;32mand\u001b[0m \u001b[0mparse_float\u001b[0m \u001b[0;32mis\u001b[0m \u001b[0;32mNone\u001b[0m \u001b[0;32mand\u001b[0m\u001b[0;34m\u001b[0m\u001b[0m\n\u001b[1;32m    318\u001b[0m             parse_constant is None and object_pairs_hook is None and not kw):\n\u001b[0;32m--> 319\u001b[0;31m         \u001b[0;32mreturn\u001b[0m \u001b[0m_default_decoder\u001b[0m\u001b[0;34m.\u001b[0m\u001b[0mdecode\u001b[0m\u001b[0;34m(\u001b[0m\u001b[0ms\u001b[0m\u001b[0;34m)\u001b[0m\u001b[0;34m\u001b[0m\u001b[0m\n\u001b[0m\u001b[1;32m    320\u001b[0m     \u001b[0;32mif\u001b[0m \u001b[0mcls\u001b[0m \u001b[0;32mis\u001b[0m \u001b[0;32mNone\u001b[0m\u001b[0;34m:\u001b[0m\u001b[0;34m\u001b[0m\u001b[0m\n\u001b[1;32m    321\u001b[0m         \u001b[0mcls\u001b[0m \u001b[0;34m=\u001b[0m \u001b[0mJSONDecoder\u001b[0m\u001b[0;34m\u001b[0m\u001b[0m\n",
      "\u001b[0;32m/usr/lib/python3.5/json/decoder.py\u001b[0m in \u001b[0;36mdecode\u001b[0;34m(self, s, _w)\u001b[0m\n\u001b[1;32m    337\u001b[0m \u001b[0;34m\u001b[0m\u001b[0m\n\u001b[1;32m    338\u001b[0m         \"\"\"\n\u001b[0;32m--> 339\u001b[0;31m         \u001b[0mobj\u001b[0m\u001b[0;34m,\u001b[0m \u001b[0mend\u001b[0m \u001b[0;34m=\u001b[0m \u001b[0mself\u001b[0m\u001b[0;34m.\u001b[0m\u001b[0mraw_decode\u001b[0m\u001b[0;34m(\u001b[0m\u001b[0ms\u001b[0m\u001b[0;34m,\u001b[0m \u001b[0midx\u001b[0m\u001b[0;34m=\u001b[0m\u001b[0m_w\u001b[0m\u001b[0;34m(\u001b[0m\u001b[0ms\u001b[0m\u001b[0;34m,\u001b[0m \u001b[0;36m0\u001b[0m\u001b[0;34m)\u001b[0m\u001b[0;34m.\u001b[0m\u001b[0mend\u001b[0m\u001b[0;34m(\u001b[0m\u001b[0;34m)\u001b[0m\u001b[0;34m)\u001b[0m\u001b[0;34m\u001b[0m\u001b[0m\n\u001b[0m\u001b[1;32m    340\u001b[0m         \u001b[0mend\u001b[0m \u001b[0;34m=\u001b[0m \u001b[0m_w\u001b[0m\u001b[0;34m(\u001b[0m\u001b[0ms\u001b[0m\u001b[0;34m,\u001b[0m \u001b[0mend\u001b[0m\u001b[0;34m)\u001b[0m\u001b[0;34m.\u001b[0m\u001b[0mend\u001b[0m\u001b[0;34m(\u001b[0m\u001b[0;34m)\u001b[0m\u001b[0;34m\u001b[0m\u001b[0m\n\u001b[1;32m    341\u001b[0m         \u001b[0;32mif\u001b[0m \u001b[0mend\u001b[0m \u001b[0;34m!=\u001b[0m \u001b[0mlen\u001b[0m\u001b[0;34m(\u001b[0m\u001b[0ms\u001b[0m\u001b[0;34m)\u001b[0m\u001b[0;34m:\u001b[0m\u001b[0;34m\u001b[0m\u001b[0m\n",
      "\u001b[0;32m/usr/lib/python3.5/json/decoder.py\u001b[0m in \u001b[0;36mraw_decode\u001b[0;34m(self, s, idx)\u001b[0m\n\u001b[1;32m    355\u001b[0m             \u001b[0mobj\u001b[0m\u001b[0;34m,\u001b[0m \u001b[0mend\u001b[0m \u001b[0;34m=\u001b[0m \u001b[0mself\u001b[0m\u001b[0;34m.\u001b[0m\u001b[0mscan_once\u001b[0m\u001b[0;34m(\u001b[0m\u001b[0ms\u001b[0m\u001b[0;34m,\u001b[0m \u001b[0midx\u001b[0m\u001b[0;34m)\u001b[0m\u001b[0;34m\u001b[0m\u001b[0m\n\u001b[1;32m    356\u001b[0m         \u001b[0;32mexcept\u001b[0m \u001b[0mStopIteration\u001b[0m \u001b[0;32mas\u001b[0m \u001b[0merr\u001b[0m\u001b[0;34m:\u001b[0m\u001b[0;34m\u001b[0m\u001b[0m\n\u001b[0;32m--> 357\u001b[0;31m             \u001b[0;32mraise\u001b[0m \u001b[0mJSONDecodeError\u001b[0m\u001b[0;34m(\u001b[0m\u001b[0;34m\"Expecting value\"\u001b[0m\u001b[0;34m,\u001b[0m \u001b[0ms\u001b[0m\u001b[0;34m,\u001b[0m \u001b[0merr\u001b[0m\u001b[0;34m.\u001b[0m\u001b[0mvalue\u001b[0m\u001b[0;34m)\u001b[0m \u001b[0;32mfrom\u001b[0m \u001b[0;32mNone\u001b[0m\u001b[0;34m\u001b[0m\u001b[0m\n\u001b[0m\u001b[1;32m    358\u001b[0m         \u001b[0;32mreturn\u001b[0m \u001b[0mobj\u001b[0m\u001b[0;34m,\u001b[0m \u001b[0mend\u001b[0m\u001b[0;34m\u001b[0m\u001b[0m\n",
      "\u001b[0;31mJSONDecodeError\u001b[0m: Expecting value: line 1 column 1 (char 0)"
     ]
    }
   ],
   "source": [
    "t =get_benchmark()"
   ]
  },
  {
   "cell_type": "code",
   "execution_count": 64,
   "metadata": {},
   "outputs": [
    {
     "name": "stdout",
     "output_type": "stream",
     "text": [
      "{\n",
      "    \"filesystem\": \"/dev/sda8\",\n",
      "    \"random\": {\n",
      "        \"read\": {\n",
      "            \"bwMaxMIB\": 3068.2546,\n",
      "            \"bwMeanMIB\": 3068.2546,\n",
      "            \"bwMinMIB\": 3068.2546,\n",
      "            \"openTime\": 0.0,\n",
      "            \"totalTime\": 0.0003,\n",
      "            \"wrRdTime\": 0.0003\n",
      "        },\n",
      "        \"write\": {\n",
      "            \"bwMaxMIB\": 589.0876,\n",
      "            \"bwMeanMIB\": 589.0876,\n",
      "            \"bwMinMIB\": 589.0876,\n",
      "            \"openTime\": 0.0,\n",
      "            \"totalTime\": 0.0017,\n",
      "            \"wrRdTime\": 0.0016\n",
      "        }\n",
      "    },\n",
      "    \"sequential\": {\n",
      "        \"read\": {\n",
      "            \"bwMaxMIB\": 2759.4105,\n",
      "            \"bwMeanMIB\": 2759.4105,\n",
      "            \"bwMinMIB\": 2759.4105,\n",
      "            \"openTime\": 0.0,\n",
      "            \"totalTime\": 0.0004,\n",
      "            \"wrRdTime\": 0.0003\n",
      "        },\n",
      "        \"write\": {\n",
      "            \"bwMaxMIB\": 501.1116,\n",
      "            \"bwMeanMIB\": 501.1116,\n",
      "            \"bwMinMIB\": 501.1116,\n",
      "            \"openTime\": 0.0001,\n",
      "            \"totalTime\": 0.002,\n",
      "            \"wrRdTime\": 0.0019\n",
      "        }\n",
      "    }\n",
      "}\n"
     ]
    }
   ],
   "source": [
    "sample =get_benchmark()\n",
    "print(json.dumps(sample, sort_keys=True, indent=4))"
   ]
  },
  {
   "cell_type": "code",
   "execution_count": 25,
   "metadata": {},
   "outputs": [],
   "source": [
    "hi =bashing('df -P op.json | tail -1 | cut -d' ' -f 1',False)"
   ]
  },
  {
   "cell_type": "code",
   "execution_count": null,
   "metadata": {},
   "outputs": [],
   "source": [
    "t.fi"
   ]
  },
  {
   "cell_type": "code",
   "execution_count": 29,
   "metadata": {},
   "outputs": [
    {
     "name": "stdout",
     "output_type": "stream",
     "text": [
      "/dev/sda8\n"
     ]
    }
   ],
   "source": [
    "\n",
    "print(filesystem)"
   ]
  },
  {
   "cell_type": "code",
   "execution_count": 31,
   "metadata": {},
   "outputs": [
    {
     "data": {
      "text/plain": [
       "'sequential'"
      ]
     },
     "execution_count": 31,
     "metadata": {},
     "output_type": "execute_result"
    }
   ],
   "source": [
    "data['tests'][0]['Options']['ordering in a file']"
   ]
  },
  {
   "cell_type": "code",
   "execution_count": 40,
   "metadata": {},
   "outputs": [
    {
     "data": {
      "text/plain": [
       "'read'"
      ]
     },
     "execution_count": 40,
     "metadata": {},
     "output_type": "execute_result"
    }
   ],
   "source": []
  },
  {
   "cell_type": "code",
   "execution_count": 51,
   "metadata": {},
   "outputs": [
    {
     "data": {
      "text/plain": [
       "'read'"
      ]
     },
     "execution_count": 51,
     "metadata": {},
     "output_type": "execute_result"
    }
   ],
   "source": [
    "data['summary'][1]['operation']"
   ]
  },
  {
   "cell_type": "code",
   "execution_count": 50,
   "metadata": {},
   "outputs": [
    {
     "data": {
      "text/plain": [
       "{'access': 'read',\n",
       " 'blockKiB': 1024.0,\n",
       " 'bwMiB': 2166.4793,\n",
       " 'closeTime': 0.0,\n",
       " 'openTime': 0.0,\n",
       " 'totalTime': 0.0005,\n",
       " 'wrRdTime': 0.0004,\n",
       " 'xferKiB': 256.0}"
      ]
     },
     "execution_count": 50,
     "metadata": {},
     "output_type": "execute_result"
    }
   ],
   "source": [
    "data['tests'][0]['Results'][0][1]"
   ]
  },
  {
   "cell_type": "code",
   "execution_count": 47,
   "metadata": {},
   "outputs": [
    {
     "ename": "IndexError",
     "evalue": "list index out of range",
     "output_type": "error",
     "traceback": [
      "\u001b[0;31m---------------------------------------------------------------------------\u001b[0m",
      "\u001b[0;31mIndexError\u001b[0m                                Traceback (most recent call last)",
      "\u001b[0;32m<ipython-input-47-bd55424c9509>\u001b[0m in \u001b[0;36m<module>\u001b[0;34m\u001b[0m\n\u001b[0;32m----> 1\u001b[0;31m \u001b[0mdata\u001b[0m\u001b[0;34m[\u001b[0m\u001b[0;34m'tests'\u001b[0m\u001b[0;34m]\u001b[0m\u001b[0;34m[\u001b[0m\u001b[0;36m0\u001b[0m\u001b[0;34m]\u001b[0m\u001b[0;34m[\u001b[0m\u001b[0;34m'Results'\u001b[0m\u001b[0;34m]\u001b[0m\u001b[0;34m[\u001b[0m\u001b[0;36m1\u001b[0m\u001b[0;34m]\u001b[0m\u001b[0;34m[\u001b[0m\u001b[0;34m'openTime'\u001b[0m\u001b[0;34m]\u001b[0m\u001b[0;34m\u001b[0m\u001b[0m\n\u001b[0m\u001b[1;32m      2\u001b[0m \u001b[0mdata\u001b[0m\u001b[0;34m[\u001b[0m\u001b[0;34m'tests'\u001b[0m\u001b[0;34m]\u001b[0m\u001b[0;34m[\u001b[0m\u001b[0;36m0\u001b[0m\u001b[0;34m]\u001b[0m\u001b[0;34m[\u001b[0m\u001b[0;34m'Results'\u001b[0m\u001b[0;34m]\u001b[0m\u001b[0;34m[\u001b[0m\u001b[0;36m1\u001b[0m\u001b[0;34m]\u001b[0m\u001b[0;34m[\u001b[0m\u001b[0;34m'wrRdTime'\u001b[0m\u001b[0;34m]\u001b[0m\u001b[0;34m\u001b[0m\u001b[0m\n\u001b[1;32m      3\u001b[0m \u001b[0mdata\u001b[0m\u001b[0;34m[\u001b[0m\u001b[0;34m'tests'\u001b[0m\u001b[0;34m]\u001b[0m\u001b[0;34m[\u001b[0m\u001b[0;36m0\u001b[0m\u001b[0;34m]\u001b[0m\u001b[0;34m[\u001b[0m\u001b[0;34m'Results'\u001b[0m\u001b[0;34m]\u001b[0m\u001b[0;34m[\u001b[0m\u001b[0;36m1\u001b[0m\u001b[0;34m]\u001b[0m\u001b[0;34m[\u001b[0m\u001b[0;34m'totalTime'\u001b[0m\u001b[0;34m]\u001b[0m\u001b[0;34m\u001b[0m\u001b[0m\n",
      "\u001b[0;31mIndexError\u001b[0m: list index out of range"
     ]
    }
   ],
   "source": [
    "data['tests'][0]['Results'][0][1]['openTime']\n",
    "data['tests'][0]['Results'][0][1]['wrRdTime']\n",
    "data['tests'][0]['Results'][0][1]['totalTime']"
   ]
  },
  {
   "cell_type": "code",
   "execution_count": 9,
   "metadata": {},
   "outputs": [
    {
     "name": "stdout",
     "output_type": "stream",
     "text": [
      "{\n",
      "  \"Version\": \"3.2.0\", \n",
      "  \"Began\": \"Wed Mar  6 00:21:18 2019\", \n",
      "  \"Command line\": \"ior -a=POSIX -O summaryFile=op.json -O summaryFormat=JSON\", \n",
      "  \"Machine\": \"Linux MainUser\", \n",
      "  \"tests\": [\n",
      "    {\n",
      "    \"TestID\": 0, \n",
      "    \"StartTime\": \"Wed Mar  6 00:21:18 2019\"    , \"Path\": \"/home/mainuser/classes/CS550/profilers\",\"Capacity\": \"76.9 GiB\", \"Used Capacity\": \"51.4%\",\"Inodes\": \"4.9 Mi\", \"Used Inodes\" : \"6.9%\"\n",
      ", \n",
      "    \"Parameters\": {\n",
      "      \"testID\": 0, \n",
      "      \"refnum\": 0, \n",
      "      \"api\": \"POSIX\", \n",
      "      \"platform\": \"MainUser(Linux)\", \n",
      "      \"testFileName\": \"testFile\", \n",
      "      \"hintsFileName\": \"(null)\", \n",
      "      \"deadlineForStonewall\": 0, \n",
      "      \"stoneWallingWearOut\": 0, \n",
      "      \"maxTimeDuration\": 0, \n",
      "      \"outlierThreshold\": 0, \n",
      "      \"options\": \"(null)\", \n",
      "      \"dryRun\": 0, \n",
      "      \"nodes\": 0, \n",
      "      \"memoryPerTask\": 0, \n",
      "      \"memoryPerNode\": 0, \n",
      "      \"tasksPerNode\": 1, \n",
      "      \"repetitions\": 1, \n",
      "      \"multiFile\": 0, \n",
      "      \"interTestDelay\": 0, \n",
      "      \"fsync\": 0, \n",
      "      \"fsyncperwrite\": 0, \n",
      "      \"useExistingTestFile\": 0, \n",
      "      \"showHints\": 0, \n",
      "      \"uniqueDir\": 0, \n",
      "      \"individualDataSets\": 0, \n",
      "      \"singleXferAttempt\": 0, \n",
      "      \"readFile\": 1, \n",
      "      \"writeFile\": 1, \n",
      "      \"filePerProc\": 0, \n",
      "      \"reorderTasks\": 0, \n",
      "      \"reorderTasksRandom\": 0, \n",
      "      \"reorderTasksRandomSeed\": 0, \n",
      "      \"randomOffset\": 0, \n",
      "      \"checkWrite\": 0, \n",
      "      \"checkRead\": 0, \n",
      "      \"preallocate\": 0, \n",
      "      \"useFileView\": 0, \n",
      "      \"setAlignment\": 1, \n",
      "      \"storeFileOffset\": 0, \n",
      "      \"useSharedFilePointer\": 0, \n",
      "      \"useO_DIRECT\": 0, \n",
      "      \"useStridedDatatype\": 0, \n",
      "      \"keepFile\": 0, \n",
      "      \"keepFileWithError\": 0, \n",
      "      \"quitOnError\": 0, \n",
      "      \"verbose\": 0, \n",
      "      \"data packet type\": \"g\", \n",
      "      \"setTimeStampSignature/incompressibleSeed\": 0, \n",
      "      \"collective\": 0, \n",
      "      \"segmentCount\": 1, \n",
      "      \"transferSize\": 262144, \n",
      "      \"blockSize\": 1048576\n",
      "    }\n",
      ", \n",
      "    \"Options\": {\n",
      "      \"api\": \"POSIX\", \n",
      "      \"apiVersion\": \"\", \n",
      "      \"test filename\": \"testFile\", \n",
      "      \"access\": \"single-shared-file\", \n",
      "      \"type\": \"independent\", \n",
      "      \"segments\": 1, \n",
      "      \"ordering in a file\": \"sequential\", \n",
      "      \"ordering inter file\": \"no tasks offsets\", \n",
      "      \"tasks\": 1, \n",
      "      \"clients per node\": 1, \n",
      "      \"repetitions\": 1, \n",
      "      \"xfersize\": \"262144 bytes\", \n",
      "      \"blocksize\": \"1 MiB\", \n",
      "      \"aggregate filesize\": \"1 MiB\"\n",
      "    }\n",
      ", \n",
      "    \"Results\": [\n",
      "      [             {\n",
      "        \"access\": \"write\", \n",
      "        \"bwMiB\": 530.3875, \n",
      "        \"blockKiB\": 1024.0000, \n",
      "        \"xferKiB\": 256.0000, \n",
      "        \"openTime\": 0.0000, \n",
      "        \"wrRdTime\": 0.0018, \n",
      "        \"closeTime\": 0.0000, \n",
      "        \"totalTime\": 0.0019\n",
      "      }\n",
      ", \n",
      "            {\n",
      "        \"access\": \"read\", \n",
      "        \"bwMiB\": 2166.4793, \n",
      "        \"blockKiB\": 1024.0000, \n",
      "        \"xferKiB\": 256.0000, \n",
      "        \"openTime\": 0.0000, \n",
      "        \"wrRdTime\": 0.0004, \n",
      "        \"closeTime\": 0.0000, \n",
      "        \"totalTime\": 0.0005\n",
      "      }\n",
      ", \n",
      "            {\n",
      "        \"access\": \"remove\", \n",
      "        \"totalTime\": 0.0005\n",
      "      }\n",
      "]\n",
      "]\n",
      ", \n",
      "  \"max\": {\n",
      "    \"writeMiB\": 530.3875, \n",
      "    \"writeMB\": 556.1516, \n",
      "    \"readMiB\": 2166.4793, \n",
      "    \"readMB\": 2271.7182\n",
      "  }\n",
      "\n",
      "}\n",
      "]\n",
      ", \n",
      "\"summary\": [\n",
      "{\n",
      "  \"operation\": \"write\", \n",
      "  \"API\": \"POSIX\", \n",
      "  \"TestID\": 0, \n",
      "  \"ReferenceNumber\": 0, \n",
      "  \"segmentCount\": 1, \n",
      "  \"blockSize\": 1048576, \n",
      "  \"transferSize\": 262144, \n",
      "  \"numTasks\": 1, \n",
      "  \"tasksPerNode\": 1, \n",
      "  \"repetitions\": 1, \n",
      "  \"filePerProc\": 0, \n",
      "  \"reorderTasks\": 0, \n",
      "  \"taskPerNodeOffset\": 1, \n",
      "  \"reorderTasksRandom\": 0, \n",
      "  \"reorderTasksRandomSeed\": 0, \n",
      "  \"segmentCount\": 1, \n",
      "  \"blockSize\": 1048576, \n",
      "  \"transferSize\": 262144, \n",
      "  \"bwMaxMIB\": 530.3875, \n",
      "  \"bwMinMIB\": 530.3875, \n",
      "  \"bwMeanMIB\": 530.3875, \n",
      "  \"bwStdMIB\": 0.0000, \n",
      "  \"OPsMax\": 2121.5498, \n",
      "  \"OPsMin\": 2121.5498, \n",
      "  \"OPsMean\": 2121.5498, \n",
      "  \"OPsSD\": 0.0000, \n",
      "  \"MeanTime\": 0.0019, \n",
      "  \"xsizeMiB\": 1.0000\n",
      "}\n",
      ", \n",
      "{\n",
      "  \"operation\": \"read\", \n",
      "  \"API\": \"POSIX\", \n",
      "  \"TestID\": 0, \n",
      "  \"ReferenceNumber\": 0, \n",
      "  \"segmentCount\": 1, \n",
      "  \"blockSize\": 1048576, \n",
      "  \"transferSize\": 262144, \n",
      "  \"numTasks\": 1, \n",
      "  \"tasksPerNode\": 1, \n",
      "  \"repetitions\": 1, \n",
      "  \"filePerProc\": 0, \n",
      "  \"reorderTasks\": 0, \n",
      "  \"taskPerNodeOffset\": 1, \n",
      "  \"reorderTasksRandom\": 0, \n",
      "  \"reorderTasksRandomSeed\": 0, \n",
      "  \"segmentCount\": 1, \n",
      "  \"blockSize\": 1048576, \n",
      "  \"transferSize\": 262144, \n",
      "  \"bwMaxMIB\": 2166.4793, \n",
      "  \"bwMinMIB\": 2166.4793, \n",
      "  \"bwMeanMIB\": 2166.4793, \n",
      "  \"bwStdMIB\": 0.0000, \n",
      "  \"OPsMax\": 8665.9174, \n",
      "  \"OPsMin\": 8665.9174, \n",
      "  \"OPsMean\": 8665.9174, \n",
      "  \"OPsSD\": 0.0000, \n",
      "  \"MeanTime\": 0.0005, \n",
      "  \"xsizeMiB\": 1.0000\n",
      "}\n",
      "]\n",
      ", \n",
      "\"Finished\": \"Wed Mar  6 00:21:18 2019\"\n",
      "}\n",
      "\n"
     ]
    }
   ],
   "source": [
    "bashing('cat op.json')"
   ]
  },
  {
   "cell_type": "code",
   "execution_count": 85,
   "metadata": {},
   "outputs": [],
   "source": [
    "import os                                                                                                             \n",
    "\n",
    "def list_files(dire):                                                                                                  \n",
    "    r = []                                                                                                            \n",
    "    subdirs = [x[0] for x in os.walk(dire)]   \n",
    "    #print(subdirs)\n",
    "    #return\n",
    "    for subdir in subdirs:                                                                                            \n",
    "        files = os.walk(subdir).next()[2]                                                                             \n",
    "        if (len(files) > 0):                                                                                          \n",
    "            for file in files:    \n",
    "                print(subdir + \"/\" + file)\n",
    "                r.append(subdir + \"/\" + file)\n",
    "                if len(r)>20:\n",
    "                    return r\n",
    "    return r      "
   ]
  },
  {
   "cell_type": "code",
   "execution_count": 86,
   "metadata": {
    "scrolled": true
   },
   "outputs": [
    {
     "ename": "KeyboardInterrupt",
     "evalue": "",
     "output_type": "error",
     "traceback": [
      "\u001b[0;31m---------------------------------------------------------------------------\u001b[0m",
      "\u001b[0;31mKeyboardInterrupt\u001b[0m                         Traceback (most recent call last)",
      "\u001b[0;32m<ipython-input-86-a578566b8f3c>\u001b[0m in \u001b[0;36m<module>\u001b[0;34m\u001b[0m\n\u001b[0;32m----> 1\u001b[0;31m \u001b[0mfiles\u001b[0m \u001b[0;34m=\u001b[0m \u001b[0mlist_files\u001b[0m\u001b[0;34m(\u001b[0m\u001b[0;34m\"/\"\u001b[0m\u001b[0;34m)\u001b[0m\u001b[0;34m\u001b[0m\u001b[0m\n\u001b[0m",
      "\u001b[0;32m<ipython-input-85-f8c46d2fae8b>\u001b[0m in \u001b[0;36mlist_files\u001b[0;34m(dire)\u001b[0m\n\u001b[1;32m      3\u001b[0m \u001b[0;32mdef\u001b[0m \u001b[0mlist_files\u001b[0m\u001b[0;34m(\u001b[0m\u001b[0mdire\u001b[0m\u001b[0;34m)\u001b[0m\u001b[0;34m:\u001b[0m\u001b[0;34m\u001b[0m\u001b[0m\n\u001b[1;32m      4\u001b[0m     \u001b[0mr\u001b[0m \u001b[0;34m=\u001b[0m \u001b[0;34m[\u001b[0m\u001b[0;34m]\u001b[0m\u001b[0;34m\u001b[0m\u001b[0m\n\u001b[0;32m----> 5\u001b[0;31m     \u001b[0msubdirs\u001b[0m \u001b[0;34m=\u001b[0m \u001b[0;34m[\u001b[0m\u001b[0mx\u001b[0m\u001b[0;34m[\u001b[0m\u001b[0;36m0\u001b[0m\u001b[0;34m]\u001b[0m \u001b[0;32mfor\u001b[0m \u001b[0mx\u001b[0m \u001b[0;32min\u001b[0m \u001b[0mos\u001b[0m\u001b[0;34m.\u001b[0m\u001b[0mwalk\u001b[0m\u001b[0;34m(\u001b[0m\u001b[0mdire\u001b[0m\u001b[0;34m)\u001b[0m\u001b[0;34m]\u001b[0m\u001b[0;34m\u001b[0m\u001b[0m\n\u001b[0m\u001b[1;32m      6\u001b[0m     \u001b[0mprint\u001b[0m\u001b[0;34m(\u001b[0m\u001b[0msubdirs\u001b[0m\u001b[0;34m)\u001b[0m\u001b[0;34m\u001b[0m\u001b[0m\n\u001b[1;32m      7\u001b[0m     \u001b[0;32mreturn\u001b[0m\u001b[0;34m\u001b[0m\u001b[0m\n",
      "\u001b[0;32m<ipython-input-85-f8c46d2fae8b>\u001b[0m in \u001b[0;36m<listcomp>\u001b[0;34m(.0)\u001b[0m\n\u001b[1;32m      3\u001b[0m \u001b[0;32mdef\u001b[0m \u001b[0mlist_files\u001b[0m\u001b[0;34m(\u001b[0m\u001b[0mdire\u001b[0m\u001b[0;34m)\u001b[0m\u001b[0;34m:\u001b[0m\u001b[0;34m\u001b[0m\u001b[0m\n\u001b[1;32m      4\u001b[0m     \u001b[0mr\u001b[0m \u001b[0;34m=\u001b[0m \u001b[0;34m[\u001b[0m\u001b[0;34m]\u001b[0m\u001b[0;34m\u001b[0m\u001b[0m\n\u001b[0;32m----> 5\u001b[0;31m     \u001b[0msubdirs\u001b[0m \u001b[0;34m=\u001b[0m \u001b[0;34m[\u001b[0m\u001b[0mx\u001b[0m\u001b[0;34m[\u001b[0m\u001b[0;36m0\u001b[0m\u001b[0;34m]\u001b[0m \u001b[0;32mfor\u001b[0m \u001b[0mx\u001b[0m \u001b[0;32min\u001b[0m \u001b[0mos\u001b[0m\u001b[0;34m.\u001b[0m\u001b[0mwalk\u001b[0m\u001b[0;34m(\u001b[0m\u001b[0mdire\u001b[0m\u001b[0;34m)\u001b[0m\u001b[0;34m]\u001b[0m\u001b[0;34m\u001b[0m\u001b[0m\n\u001b[0m\u001b[1;32m      6\u001b[0m     \u001b[0mprint\u001b[0m\u001b[0;34m(\u001b[0m\u001b[0msubdirs\u001b[0m\u001b[0;34m)\u001b[0m\u001b[0;34m\u001b[0m\u001b[0m\n\u001b[1;32m      7\u001b[0m     \u001b[0;32mreturn\u001b[0m\u001b[0;34m\u001b[0m\u001b[0m\n",
      "\u001b[0;32m/usr/lib/python3.5/os.py\u001b[0m in \u001b[0;36mwalk\u001b[0;34m(top, topdown, onerror, followlinks)\u001b[0m\n\u001b[1;32m    420\u001b[0m             \u001b[0;31m# above.\u001b[0m\u001b[0;34m\u001b[0m\u001b[0;34m\u001b[0m\u001b[0m\n\u001b[1;32m    421\u001b[0m             \u001b[0;32mif\u001b[0m \u001b[0mfollowlinks\u001b[0m \u001b[0;32mor\u001b[0m \u001b[0;32mnot\u001b[0m \u001b[0mislink\u001b[0m\u001b[0;34m(\u001b[0m\u001b[0mnew_path\u001b[0m\u001b[0;34m)\u001b[0m\u001b[0;34m:\u001b[0m\u001b[0;34m\u001b[0m\u001b[0m\n\u001b[0;32m--> 422\u001b[0;31m                 \u001b[0;32myield\u001b[0m \u001b[0;32mfrom\u001b[0m \u001b[0mwalk\u001b[0m\u001b[0;34m(\u001b[0m\u001b[0mnew_path\u001b[0m\u001b[0;34m,\u001b[0m \u001b[0mtopdown\u001b[0m\u001b[0;34m,\u001b[0m \u001b[0monerror\u001b[0m\u001b[0;34m,\u001b[0m \u001b[0mfollowlinks\u001b[0m\u001b[0;34m)\u001b[0m\u001b[0;34m\u001b[0m\u001b[0m\n\u001b[0m\u001b[1;32m    423\u001b[0m     \u001b[0;32melse\u001b[0m\u001b[0;34m:\u001b[0m\u001b[0;34m\u001b[0m\u001b[0m\n\u001b[1;32m    424\u001b[0m         \u001b[0;31m# Yield after recursion if going bottom up\u001b[0m\u001b[0;34m\u001b[0m\u001b[0;34m\u001b[0m\u001b[0m\n",
      "\u001b[0;32m/usr/lib/python3.5/os.py\u001b[0m in \u001b[0;36mwalk\u001b[0;34m(top, topdown, onerror, followlinks)\u001b[0m\n\u001b[1;32m    420\u001b[0m             \u001b[0;31m# above.\u001b[0m\u001b[0;34m\u001b[0m\u001b[0;34m\u001b[0m\u001b[0m\n\u001b[1;32m    421\u001b[0m             \u001b[0;32mif\u001b[0m \u001b[0mfollowlinks\u001b[0m \u001b[0;32mor\u001b[0m \u001b[0;32mnot\u001b[0m \u001b[0mislink\u001b[0m\u001b[0;34m(\u001b[0m\u001b[0mnew_path\u001b[0m\u001b[0;34m)\u001b[0m\u001b[0;34m:\u001b[0m\u001b[0;34m\u001b[0m\u001b[0m\n\u001b[0;32m--> 422\u001b[0;31m                 \u001b[0;32myield\u001b[0m \u001b[0;32mfrom\u001b[0m \u001b[0mwalk\u001b[0m\u001b[0;34m(\u001b[0m\u001b[0mnew_path\u001b[0m\u001b[0;34m,\u001b[0m \u001b[0mtopdown\u001b[0m\u001b[0;34m,\u001b[0m \u001b[0monerror\u001b[0m\u001b[0;34m,\u001b[0m \u001b[0mfollowlinks\u001b[0m\u001b[0;34m)\u001b[0m\u001b[0;34m\u001b[0m\u001b[0m\n\u001b[0m\u001b[1;32m    423\u001b[0m     \u001b[0;32melse\u001b[0m\u001b[0;34m:\u001b[0m\u001b[0;34m\u001b[0m\u001b[0m\n\u001b[1;32m    424\u001b[0m         \u001b[0;31m# Yield after recursion if going bottom up\u001b[0m\u001b[0;34m\u001b[0m\u001b[0;34m\u001b[0m\u001b[0m\n",
      "\u001b[0;32m/usr/lib/python3.5/os.py\u001b[0m in \u001b[0;36mwalk\u001b[0;34m(top, topdown, onerror, followlinks)\u001b[0m\n\u001b[1;32m    420\u001b[0m             \u001b[0;31m# above.\u001b[0m\u001b[0;34m\u001b[0m\u001b[0;34m\u001b[0m\u001b[0m\n\u001b[1;32m    421\u001b[0m             \u001b[0;32mif\u001b[0m \u001b[0mfollowlinks\u001b[0m \u001b[0;32mor\u001b[0m \u001b[0;32mnot\u001b[0m \u001b[0mislink\u001b[0m\u001b[0;34m(\u001b[0m\u001b[0mnew_path\u001b[0m\u001b[0;34m)\u001b[0m\u001b[0;34m:\u001b[0m\u001b[0;34m\u001b[0m\u001b[0m\n\u001b[0;32m--> 422\u001b[0;31m                 \u001b[0;32myield\u001b[0m \u001b[0;32mfrom\u001b[0m \u001b[0mwalk\u001b[0m\u001b[0;34m(\u001b[0m\u001b[0mnew_path\u001b[0m\u001b[0;34m,\u001b[0m \u001b[0mtopdown\u001b[0m\u001b[0;34m,\u001b[0m \u001b[0monerror\u001b[0m\u001b[0;34m,\u001b[0m \u001b[0mfollowlinks\u001b[0m\u001b[0;34m)\u001b[0m\u001b[0;34m\u001b[0m\u001b[0m\n\u001b[0m\u001b[1;32m    423\u001b[0m     \u001b[0;32melse\u001b[0m\u001b[0;34m:\u001b[0m\u001b[0;34m\u001b[0m\u001b[0m\n\u001b[1;32m    424\u001b[0m         \u001b[0;31m# Yield after recursion if going bottom up\u001b[0m\u001b[0;34m\u001b[0m\u001b[0;34m\u001b[0m\u001b[0m\n",
      "\u001b[0;32m/usr/lib/python3.5/os.py\u001b[0m in \u001b[0;36mwalk\u001b[0;34m(top, topdown, onerror, followlinks)\u001b[0m\n\u001b[1;32m    370\u001b[0m             \u001b[0;31m# to earlier import-*.\u001b[0m\u001b[0;34m\u001b[0m\u001b[0;34m\u001b[0m\u001b[0m\n\u001b[1;32m    371\u001b[0m             \u001b[0mscandir_it\u001b[0m \u001b[0;34m=\u001b[0m \u001b[0mscandir\u001b[0m\u001b[0;34m(\u001b[0m\u001b[0mtop\u001b[0m\u001b[0;34m)\u001b[0m\u001b[0;34m\u001b[0m\u001b[0m\n\u001b[0;32m--> 372\u001b[0;31m         \u001b[0mentries\u001b[0m \u001b[0;34m=\u001b[0m \u001b[0mlist\u001b[0m\u001b[0;34m(\u001b[0m\u001b[0mscandir_it\u001b[0m\u001b[0;34m)\u001b[0m\u001b[0;34m\u001b[0m\u001b[0m\n\u001b[0m\u001b[1;32m    373\u001b[0m     \u001b[0;32mexcept\u001b[0m \u001b[0mOSError\u001b[0m \u001b[0;32mas\u001b[0m \u001b[0merror\u001b[0m\u001b[0;34m:\u001b[0m\u001b[0;34m\u001b[0m\u001b[0m\n\u001b[1;32m    374\u001b[0m         \u001b[0;32mif\u001b[0m \u001b[0monerror\u001b[0m \u001b[0;32mis\u001b[0m \u001b[0;32mnot\u001b[0m \u001b[0;32mNone\u001b[0m\u001b[0;34m:\u001b[0m\u001b[0;34m\u001b[0m\u001b[0m\n",
      "\u001b[0;31mKeyboardInterrupt\u001b[0m: "
     ]
    }
   ],
   "source": [
    "files = list_files(\"/\")"
   ]
  },
  {
   "cell_type": "code",
   "execution_count": 87,
   "metadata": {},
   "outputs": [],
   "source": [
    "os.walk?"
   ]
  },
  {
   "cell_type": "code",
   "execution_count": 92,
   "metadata": {
    "scrolled": false
   },
   "outputs": [],
   "source": [
    "#from os.path import join, getsize\n",
    "#for root, dirs, files in os.walk('/'):\n",
    "#    print(root, \"consumes\", end=\"\")\n",
    "#    print(sum([getsize(join(root, name)) for name in files]), end=\"\")\n",
    "#    print(\"bytes in\", len(files), \"non-directory files\")\n",
    "#    if 'CVS' in dirs:\n",
    "#        dirs.remove('CVS')  # don't visit CVS directories"
   ]
  },
  {
   "cell_type": "code",
   "execution_count": 94,
   "metadata": {},
   "outputs": [
    {
     "data": {
      "text/plain": [
       "65280"
      ]
     },
     "execution_count": 94,
     "metadata": {},
     "output_type": "execute_result"
    }
   ],
   "source": [
    "os.system('ior -a=POSIX -O=/media/mainuser/MEMORION\\ \\HU -z -O summaryFile=random.json -O summaryFormat=JSON')\n"
   ]
  },
  {
   "cell_type": "code",
   "execution_count": 10,
   "metadata": {},
   "outputs": [],
   "source": [
    "import json, os\n",
    "import subprocess\n",
    "def get_benchmark():\n",
    "    sequential = json.loads(subprocess.check_output('ior -a=POSIX   -O summaryFormat=JSON', shell=True).decode('utf-8')) \n",
    "    random = json.loads(subprocess.check_output('ior -a=POSIX -z  -O summaryFormat=JSON', shell=True).decode('utf-8')) \n",
    "    filesystem  = subprocess.check_output(\"df -P sequential.json\", shell=True).decode('utf-8')\n",
    "    filesystem=filesystem[filesystem.find('\\n'):].split()[0]\n",
    "    read=1\n",
    "    write=0\n",
    "    return {\n",
    "        'filesystem': filesystem,\n",
    "        sequential['tests'][0]['Options']['ordering in a file'] :\n",
    "        {\n",
    "            sequential['summary'][read]['operation']:{\n",
    "            'bwMaxMIB' :    sequential['summary'][read]['bwMaxMIB'],\n",
    "            'bwMinMIB' :    sequential['summary'][read]['bwMinMIB'],\n",
    "            'bwMeanMIB' :    sequential['summary'][read]['bwMeanMIB'],\n",
    "            'openTime' :    sequential['tests'][0]['Results'][0][read]['openTime'],\n",
    "            'wrRdTime' :    sequential['tests'][0]['Results'][0][read]['wrRdTime'],\n",
    "            'totalTime' :    sequential['tests'][0]['Results'][0][read]['totalTime']\n",
    "            },\n",
    "             sequential['summary'][write]['operation']:{\n",
    "            'bwMaxMIB' :    sequential['summary'][write]['bwMaxMIB'],\n",
    "            'bwMinMIB' :    sequential['summary'][write]['bwMinMIB'],\n",
    "            'bwMeanMIB' :    sequential['summary'][write]['bwMeanMIB'],\n",
    "            'openTime' :    sequential['tests'][0]['Results'][0][write]['openTime'],\n",
    "            'wrRdTime' :    sequential['tests'][0]['Results'][0][write]['wrRdTime'],\n",
    "            'totalTime' :    sequential['tests'][0]['Results'][0][write]['totalTime']\n",
    "            }\n",
    "        },\n",
    "                random['tests'][0]['Options']['ordering in a file'] :\n",
    "        {\n",
    "            random['summary'][read]['operation']:{\n",
    "            'bwMaxMIB' :    random['summary'][read]['bwMaxMIB'],\n",
    "            'bwMinMIB' :    random['summary'][read]['bwMinMIB'],\n",
    "            'bwMeanMIB' :    random['summary'][read]['bwMeanMIB'],\n",
    "            'openTime' :    random['tests'][0]['Results'][0][read]['openTime'],\n",
    "            'wrRdTime' :    random['tests'][0]['Results'][0][read]['wrRdTime'],\n",
    "            'totalTime' :    random['tests'][0]['Results'][0][read]['totalTime']\n",
    "            },\n",
    "             random['summary'][write]['operation']:{\n",
    "            'bwMaxMIB' :    random['summary'][write]['bwMaxMIB'],\n",
    "            'bwMinMIB' :    random['summary'][write]['bwMinMIB'],\n",
    "            'bwMeanMIB' :    random['summary'][write]['bwMeanMIB'],\n",
    "            'openTime' :    random['tests'][0]['Results'][0][write]['openTime'],\n",
    "            'wrRdTime' :    random['tests'][0]['Results'][0][write]['wrRdTime'],\n",
    "            'totalTime' :    random['tests'][0]['Results'][0][write]['totalTime']\n",
    "            }\n",
    "        }\n",
    "    }\n",
    "    \n",
    "#output =json.loads(subprocess.check_output(\"lsblk -JS -io name,model,rota,type,WWN,HCTL,vendor,zoned,hotplug,subsystems,tran\", shell=True).decode('utf-8'))"
   ]
  },
  {
   "cell_type": "code",
   "execution_count": 13,
   "metadata": {
    "scrolled": true
   },
   "outputs": [
    {
     "name": "stdout",
     "output_type": "stream",
     "text": [
      "{'filesystem': '/dev/sda8', 'sequential': {'read': {'bwMinMIB': 6636.557, 'bwMaxMIB': 6636.557, 'wrRdTime': 0.0001, 'bwMeanMIB': 6636.557, 'totalTime': 0.0002, 'openTime': 0.0}, 'write': {'bwMinMIB': 1342.6069, 'bwMaxMIB': 1342.6069, 'wrRdTime': 0.0007, 'bwMeanMIB': 1342.6069, 'totalTime': 0.0007, 'openTime': 0.0}}, 'random': {'read': {'bwMinMIB': 7025.6348, 'bwMaxMIB': 7025.6348, 'wrRdTime': 0.0001, 'bwMeanMIB': 7025.6348, 'totalTime': 0.0001, 'openTime': 0.0}, 'write': {'bwMinMIB': 1354.7494, 'bwMaxMIB': 1354.7494, 'wrRdTime': 0.0007, 'bwMeanMIB': 1354.7494, 'totalTime': 0.0007, 'openTime': 0.0001}}}\n"
     ]
    }
   ],
   "source": [
    "t = get_benchmark()\n",
    "print(t)"
   ]
  },
  {
   "cell_type": "code",
   "execution_count": 30,
   "metadata": {
    "scrolled": true
   },
   "outputs": [],
   "source": [
    "import json\n",
    "import subprocess\n",
    "\n",
    "def get_benchmark():\n",
    "    ior_path='/usr/local/bin/'\n",
    "    rand_command = ior_path+'ior -a=POSIX -z -O summaryFormat=JSON'\n",
    "    seq_command = ior_path+'ior -a=POSIX -O summaryFormat=JSON'\n",
    "    p = subprocess.check_output(rand_command+\" ;sleep 1\", shell=True).decode('utf-8')\n",
    "    print(p)\n",
    "    sequential = json.loads(p)\n",
    "    random = json.loads(subprocess.check_output(seq_command+\" ; sleep 1\", shell=True).decode('utf-8'))\n",
    "    filesystem  = subprocess.check_output(\"df -P .\", shell=True).decode('utf-8')\n",
    "    filesystem=filesystem[filesystem.find('\\n'):].split()[0]\n",
    "    read=1\n",
    "    write=0\n",
    "    return {\n",
    "        'filesystem': filesystem,\n",
    "        sequential['tests'][0]['Options']['ordering in a file'] :\n",
    "        {\n",
    "            sequential['summary'][read]['operation']:{\n",
    "            'bwMaxMIB' :    sequential['summary'][read]['bwMaxMIB'],\n",
    "            'bwMinMIB' :    sequential['summary'][read]['bwMinMIB'],\n",
    "            'bwMeanMIB' :    sequential['summary'][read]['bwMeanMIB'],\n",
    "            'openTime' :    sequential['tests'][0]['Results'][0][read]['openTime'],\n",
    "            'wrRdTime' :    sequential['tests'][0]['Results'][0][read]['wrRdTime'],\n",
    "            'totalTime' :    sequential['tests'][0]['Results'][0][read]['totalTime']\n",
    "            },\n",
    "             sequential['summary'][write]['operation']:{\n",
    "            'bwMaxMIB' :    sequential['summary'][write]['bwMaxMIB'],\n",
    "            'bwMinMIB' :    sequential['summary'][write]['bwMinMIB'],\n",
    "            'bwMeanMIB' :    sequential['summary'][write]['bwMeanMIB'],\n",
    "            'openTime' :    sequential['tests'][0]['Results'][0][write]['openTime'],\n",
    "            'wrRdTime' :    sequential['tests'][0]['Results'][0][write]['wrRdTime'],\n",
    "            'totalTime' :    sequential['tests'][0]['Results'][0][write]['totalTime']\n",
    "            }\n",
    "        },\n",
    "                random['tests'][0]['Options']['ordering in a file'] :\n",
    "        {\n",
    "            random['summary'][read]['operation']:{\n",
    "            'bwMaxMIB' :    random['summary'][read]['bwMaxMIB'],\n",
    "            'bwMinMIB' :    random['summary'][read]['bwMinMIB'],\n",
    "            'bwMeanMIB' :    random['summary'][read]['bwMeanMIB'],\n",
    "            'openTime' :    random['tests'][0]['Results'][0][read]['openTime'],\n",
    "            'wrRdTime' :    random['tests'][0]['Results'][0][read]['wrRdTime'],\n",
    "            'totalTime' :    random['tests'][0]['Results'][0][read]['totalTime']\n",
    "            },\n",
    "             random['summary'][write]['operation']:{\n",
    "            'bwMaxMIB' :    random['summary'][write]['bwMaxMIB'],\n",
    "            'bwMinMIB' :    random['summary'][write]['bwMinMIB'],\n",
    "            'bwMeanMIB' :    random['summary'][write]['bwMeanMIB'],\n",
    "            'openTime' :    random['tests'][0]['Results'][0][write]['openTime'],\n",
    "            'wrRdTime' :    random['tests'][0]['Results'][0][write]['wrRdTime'],\n",
    "            'totalTime' :    random['tests'][0]['Results'][0][write]['totalTime']\n",
    "            }\n",
    "        }\n",
    "    }\n"
   ]
  },
  {
   "cell_type": "code",
   "execution_count": 32,
   "metadata": {},
   "outputs": [],
   "source": [
    "# bytes?"
   ]
  },
  {
   "cell_type": "code",
   "execution_count": 37,
   "metadata": {},
   "outputs": [
    {
     "name": "stdout",
     "output_type": "stream",
     "text": [
      "#########################\n"
     ]
    }
   ],
   "source": [
    "print(\"#\"*25)"
   ]
  },
  {
   "cell_type": "code",
   "execution_count": 36,
   "metadata": {},
   "outputs": [
    {
     "ename": "NameError",
     "evalue": "name 'bashing' is not defined",
     "output_type": "error",
     "traceback": [
      "\u001b[0;31m---------------------------------------------------------------------------\u001b[0m",
      "\u001b[0;31mNameError\u001b[0m                                 Traceback (most recent call last)",
      "\u001b[0;32m<ipython-input-36-b5e51de8335a>\u001b[0m in \u001b[0;36m<module>\u001b[0;34m\u001b[0m\n\u001b[0;32m----> 1\u001b[0;31m \u001b[0mbashing\u001b[0m\u001b[0;34m(\u001b[0m\u001b[0;34m\"whereis ior\"\u001b[0m\u001b[0;34m)\u001b[0m\u001b[0;34m\u001b[0m\u001b[0m\n\u001b[0m",
      "\u001b[0;31mNameError\u001b[0m: name 'bashing' is not defined"
     ]
    }
   ],
   "source": [
    "bashing(\"whereis ior\")"
   ]
  },
  {
   "cell_type": "code",
   "execution_count": 35,
   "metadata": {
    "scrolled": true
   },
   "outputs": [
    {
     "name": "stdout",
     "output_type": "stream",
     "text": [
      "{\n",
      "  \"Version\": \"3.2.0\", \n",
      "  \"Began\": \"Wed Mar  6 11:46:36 2019\", \n",
      "  \"Command line\": \"/usr/local/bin/ior -a=POSIX -z -O summaryFormat=JSON\", \n",
      "  \"Machine\": \"Linux MainUser\", \n",
      "  \"tests\": [\n",
      "    {\n",
      "    \"TestID\": 0, \n",
      "    \"StartTime\": \"Wed Mar  6 11:46:36 2019\"    , \"Path\": \"/home/mainuser/classes/CS550/profilers/master/Probing\",\"Capacity\": \"76.9 GiB\", \"Used Capacity\": \"51.8%\",\"Inodes\": \"4.9 Mi\", \"Used Inodes\" : \"6.9%\"\n",
      ", \n",
      "    \"Parameters\": {\n",
      "      \"testID\": 0, \n",
      "      \"refnum\": 0, \n",
      "      \"api\": \"POSIX\", \n",
      "      \"platform\": \"MainUser(Linux)\", \n",
      "      \"testFileName\": \"testFile\", \n",
      "      \"hintsFileName\": \"(null)\", \n",
      "      \"deadlineForStonewall\": 0, \n",
      "      \"stoneWallingWearOut\": 0, \n",
      "      \"maxTimeDuration\": 0, \n",
      "      \"outlierThreshold\": 0, \n",
      "      \"options\": \"(null)\", \n",
      "      \"dryRun\": 0, \n",
      "      \"nodes\": 0, \n",
      "      \"memoryPerTask\": 0, \n",
      "      \"memoryPerNode\": 0, \n",
      "      \"tasksPerNode\": 1, \n",
      "      \"repetitions\": 1, \n",
      "      \"multiFile\": 0, \n",
      "      \"interTestDelay\": 0, \n",
      "      \"fsync\": 0, \n",
      "      \"fsyncperwrite\": 0, \n",
      "      \"useExistingTestFile\": 0, \n",
      "      \"showHints\": 0, \n",
      "      \"uniqueDir\": 0, \n",
      "      \"individualDataSets\": 0, \n",
      "      \"singleXferAttempt\": 0, \n",
      "      \"readFile\": 1, \n",
      "      \"writeFile\": 1, \n",
      "      \"filePerProc\": 0, \n",
      "      \"reorderTasks\": 0, \n",
      "      \"reorderTasksRandom\": 0, \n",
      "      \"reorderTasksRandomSeed\": 0, \n",
      "      \"randomOffset\": 1, \n",
      "      \"checkWrite\": 0, \n",
      "      \"checkRead\": 0, \n",
      "      \"preallocate\": 0, \n",
      "      \"useFileView\": 0, \n",
      "      \"setAlignment\": 1, \n",
      "      \"storeFileOffset\": 0, \n",
      "      \"useSharedFilePointer\": 0, \n",
      "      \"useO_DIRECT\": 0, \n",
      "      \"useStridedDatatype\": 0, \n",
      "      \"keepFile\": 0, \n",
      "      \"keepFileWithError\": 0, \n",
      "      \"quitOnError\": 0, \n",
      "      \"verbose\": 0, \n",
      "      \"data packet type\": \"g\", \n",
      "      \"setTimeStampSignature/incompressibleSeed\": 0, \n",
      "      \"collective\": 0, \n",
      "      \"segmentCount\": 1, \n",
      "      \"transferSize\": 262144, \n",
      "      \"blockSize\": 1048576\n",
      "    }\n",
      ", \n",
      "    \"Options\": {\n",
      "      \"api\": \"POSIX\", \n",
      "      \"apiVersion\": \"\", \n",
      "      \"test filename\": \"testFile\", \n",
      "      \"access\": \"single-shared-file\", \n",
      "      \"type\": \"independent\", \n",
      "      \"segments\": 1, \n",
      "      \"ordering in a file\": \"random\", \n",
      "      \"ordering inter file\": \"no tasks offsets\", \n",
      "      \"tasks\": 1, \n",
      "      \"clients per node\": 1, \n",
      "      \"repetitions\": 1, \n",
      "      \"xfersize\": \"262144 bytes\", \n",
      "      \"blocksize\": \"1 MiB\", \n",
      "      \"aggregate filesize\": \"1 MiB\"\n",
      "    }\n",
      ", \n",
      "    \"Results\": [\n",
      "      [             {\n",
      "        \"access\": \"write\", \n",
      "        \"bwMiB\": 587.3553, \n",
      "        \"blockKiB\": 1024.0000, \n",
      "        \"xferKiB\": 256.0000, \n",
      "        \"openTime\": 0.0001, \n",
      "        \"wrRdTime\": 0.0016, \n",
      "        \"closeTime\": 0.0000, \n",
      "        \"totalTime\": 0.0017\n",
      "      }\n",
      ", \n",
      "            {\n",
      "        \"access\": \"read\", \n",
      "        \"bwMiB\": 2246.5474, \n",
      "        \"blockKiB\": 1024.0000, \n",
      "        \"xferKiB\": 256.0000, \n",
      "        \"openTime\": 0.0000, \n",
      "        \"wrRdTime\": 0.0004, \n",
      "        \"closeTime\": 0.0000, \n",
      "        \"totalTime\": 0.0004\n",
      "      }\n",
      ", \n",
      "            {\n",
      "        \"access\": \"remove\", \n",
      "        \"totalTime\": 0.0004\n",
      "      }\n",
      "]\n",
      "]\n",
      ", \n",
      "  \"max\": {\n",
      "    \"writeMiB\": 587.3553, \n",
      "    \"writeMB\": 615.8866, \n",
      "    \"readMiB\": 2246.5474, \n",
      "    \"readMB\": 2355.6757\n",
      "  }\n",
      "\n",
      "}\n",
      "]\n",
      ", \n",
      "\"summary\": [\n",
      "{\n",
      "  \"operation\": \"write\", \n",
      "  \"API\": \"POSIX\", \n",
      "  \"TestID\": 0, \n",
      "  \"ReferenceNumber\": 0, \n",
      "  \"segmentCount\": 1, \n",
      "  \"blockSize\": 1048576, \n",
      "  \"transferSize\": 262144, \n",
      "  \"numTasks\": 1, \n",
      "  \"tasksPerNode\": 1, \n",
      "  \"repetitions\": 1, \n",
      "  \"filePerProc\": 0, \n",
      "  \"reorderTasks\": 0, \n",
      "  \"taskPerNodeOffset\": 1, \n",
      "  \"reorderTasksRandom\": 0, \n",
      "  \"reorderTasksRandomSeed\": 0, \n",
      "  \"segmentCount\": 1, \n",
      "  \"blockSize\": 1048576, \n",
      "  \"transferSize\": 262144, \n",
      "  \"bwMaxMIB\": 587.3553, \n",
      "  \"bwMinMIB\": 587.3553, \n",
      "  \"bwMeanMIB\": 587.3553, \n",
      "  \"bwStdMIB\": 0.0000, \n",
      "  \"OPsMax\": 2349.4211, \n",
      "  \"OPsMin\": 2349.4211, \n",
      "  \"OPsMean\": 2349.4211, \n",
      "  \"OPsSD\": 0.0000, \n",
      "  \"MeanTime\": 0.0017, \n",
      "  \"xsizeMiB\": 1.0000\n",
      "}\n",
      ", \n",
      "{\n",
      "  \"operation\": \"read\", \n",
      "  \"API\": \"POSIX\", \n",
      "  \"TestID\": 0, \n",
      "  \"ReferenceNumber\": 0, \n",
      "  \"segmentCount\": 1, \n",
      "  \"blockSize\": 1048576, \n",
      "  \"transferSize\": 262144, \n",
      "  \"numTasks\": 1, \n",
      "  \"tasksPerNode\": 1, \n",
      "  \"repetitions\": 1, \n",
      "  \"filePerProc\": 0, \n",
      "  \"reorderTasks\": 0, \n",
      "  \"taskPerNodeOffset\": 1, \n",
      "  \"reorderTasksRandom\": 0, \n",
      "  \"reorderTasksRandomSeed\": 0, \n",
      "  \"segmentCount\": 1, \n",
      "  \"blockSize\": 1048576, \n",
      "  \"transferSize\": 262144, \n",
      "  \"bwMaxMIB\": 2246.5474, \n",
      "  \"bwMinMIB\": 2246.5474, \n",
      "  \"bwMeanMIB\": 2246.5474, \n",
      "  \"bwStdMIB\": 0.0000, \n",
      "  \"OPsMax\": 8986.1896, \n",
      "  \"OPsMin\": 8986.1896, \n",
      "  \"OPsMean\": 8986.1896, \n",
      "  \"OPsSD\": 0.0000, \n",
      "  \"MeanTime\": 0.0004, \n",
      "  \"xsizeMiB\": 1.0000\n",
      "}\n",
      "]\n",
      ", \n",
      "\"Finished\": \"Wed Mar  6 11:46:36 2019\"\n",
      "}\n",
      "\n",
      "{\n",
      "    \"filesystem\": \"/dev/sda8\",\n",
      "    \"random\": {\n",
      "        \"read\": {\n",
      "            \"bwMaxMIB\": 2246.5474,\n",
      "            \"bwMeanMIB\": 2246.5474,\n",
      "            \"bwMinMIB\": 2246.5474,\n",
      "            \"openTime\": 0.0,\n",
      "            \"totalTime\": 0.0004,\n",
      "            \"wrRdTime\": 0.0004\n",
      "        },\n",
      "        \"write\": {\n",
      "            \"bwMaxMIB\": 587.3553,\n",
      "            \"bwMeanMIB\": 587.3553,\n",
      "            \"bwMinMIB\": 587.3553,\n",
      "            \"openTime\": 0.0001,\n",
      "            \"totalTime\": 0.0017,\n",
      "            \"wrRdTime\": 0.0016\n",
      "        }\n",
      "    },\n",
      "    \"sequential\": {\n",
      "        \"read\": {\n",
      "            \"bwMaxMIB\": 3068.2546,\n",
      "            \"bwMeanMIB\": 3068.2546,\n",
      "            \"bwMinMIB\": 3068.2546,\n",
      "            \"openTime\": 0.0,\n",
      "            \"totalTime\": 0.0003,\n",
      "            \"wrRdTime\": 0.0003\n",
      "        },\n",
      "        \"write\": {\n",
      "            \"bwMaxMIB\": 971.3534,\n",
      "            \"bwMeanMIB\": 971.3534,\n",
      "            \"bwMinMIB\": 971.3534,\n",
      "            \"openTime\": 0.0001,\n",
      "            \"totalTime\": 0.001,\n",
      "            \"wrRdTime\": 0.0009\n",
      "        }\n",
      "    }\n",
      "}\n"
     ]
    }
   ],
   "source": [
    "sample =get_benchmark()\n",
    "print(json.dumps(sample, sort_keys=True, indent=4))"
   ]
  },
  {
   "cell_type": "code",
   "execution_count": null,
   "metadata": {},
   "outputs": [],
   "source": []
  }
 ],
 "metadata": {
  "kernelspec": {
   "display_name": "Python 3",
   "language": "python",
   "name": "python3"
  },
  "language_info": {
   "codemirror_mode": {
    "name": "ipython",
    "version": 3
   },
   "file_extension": ".py",
   "mimetype": "text/x-python",
   "name": "python",
   "nbconvert_exporter": "python",
   "pygments_lexer": "ipython3",
   "version": "3.5.3"
  }
 },
 "nbformat": 4,
 "nbformat_minor": 2
}
